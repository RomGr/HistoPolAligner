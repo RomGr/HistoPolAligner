{
 "cells": [
  {
   "cell_type": "code",
   "execution_count": 1,
   "id": "6d9ea8d5",
   "metadata": {},
   "outputs": [],
   "source": [
    "%load_ext autoreload\n",
    "%autoreload 2\n",
    "\n",
    "from histopolalign import AlignImage"
   ]
  },
  {
   "cell_type": "code",
   "execution_count": 2,
   "id": "6d065bec",
   "metadata": {},
   "outputs": [
    {
     "name": "stderr",
     "output_type": "stream",
     "text": [
      "  0%|                                                                                            | 0/7 [00:00<?, ?it/s]\n",
      "0it [00:00, ?it/s]\u001b[A\n",
      " 14%|███████████▊                                                                       | 1/7 [07:09<42:54, 429.02s/it]\n",
      "0it [00:00, ?it/s]\u001b[A\n",
      " 29%|███████████████████████▋                                                           | 2/7 [08:16<18:01, 216.39s/it]\n",
      "0it [00:00, ?it/s]\u001b[A\n",
      " 43%|███████████████████████████████████▌                                               | 3/7 [16:23<22:39, 339.76s/it]\n",
      "0it [00:00, ?it/s]\u001b[A\n",
      " 57%|███████████████████████████████████████████████▍                                   | 4/7 [19:45<14:16, 285.46s/it]\n",
      "0it [00:00, ?it/s]\u001b[A\n",
      " 71%|███████████████████████████████████████████████████████████▎                       | 5/7 [21:37<07:25, 222.80s/it]\n",
      "0it [00:00, ?it/s]\u001b[A\n",
      " 86%|███████████████████████████████████████████████████████████████████████▏           | 6/7 [22:35<02:46, 166.98s/it]\n",
      "0it [00:00, ?it/s]\u001b[A\n",
      "100%|███████████████████████████████████████████████████████████████████████████████████| 7/7 [25:21<00:00, 217.38s/it]\n"
     ]
    }
   ],
   "source": [
    "AlignImage.align_measurements()"
   ]
  },
  {
   "cell_type": "code",
   "execution_count": null,
   "id": "0cf3de29",
   "metadata": {},
   "outputs": [],
   "source": []
  }
 ],
 "metadata": {
  "kernelspec": {
   "display_name": "Python 3 (ipykernel)",
   "language": "python",
   "name": "python3"
  },
  "language_info": {
   "codemirror_mode": {
    "name": "ipython",
    "version": 3
   },
   "file_extension": ".py",
   "mimetype": "text/x-python",
   "name": "python",
   "nbconvert_exporter": "python",
   "pygments_lexer": "ipython3",
   "version": "3.8.17"
  }
 },
 "nbformat": 4,
 "nbformat_minor": 5
}
