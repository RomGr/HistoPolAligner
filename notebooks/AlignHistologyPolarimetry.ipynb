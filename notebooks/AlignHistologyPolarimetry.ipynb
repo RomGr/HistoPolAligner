{
 "cells": [
  {
   "cell_type": "code",
   "execution_count": 1,
   "id": "6d9ea8d5",
   "metadata": {},
   "outputs": [],
   "source": [
    "%load_ext autoreload\n",
    "%autoreload 2\n",
    "\n",
    "from histopolalign import AlignImage"
   ]
  },
  {
   "cell_type": "code",
   "execution_count": 2,
   "id": "6d065bec",
   "metadata": {},
   "outputs": [
    {
     "name": "stderr",
     "output_type": "stream",
     "text": [
      "  0%|                                                                                           | 0/12 [00:00<?, ?it/s]\n",
      "0it [00:00, ?it/s]\u001b[A\n",
      "  8%|██████▊                                                                           | 1/12 [01:49<19:59, 109.08s/it]\n",
      "0it [00:00, ?it/s]\u001b[A\n",
      " 17%|█████████████▋                                                                    | 2/12 [03:51<19:30, 117.05s/it]\n",
      "0it [00:00, ?it/s]\u001b[A\n",
      " 25%|████████████████████▌                                                             | 3/12 [06:01<18:24, 122.76s/it]\n",
      "0it [00:00, ?it/s]\u001b[A\n",
      " 33%|███████████████████████████▎                                                      | 4/12 [07:33<14:44, 110.55s/it]\n",
      "0it [00:00, ?it/s]\u001b[A\n",
      " 42%|██████████████████████████████████▏                                               | 5/12 [09:14<12:31, 107.35s/it]\n",
      "0it [00:00, ?it/s]\u001b[A\n",
      " 50%|█████████████████████████████████████████                                         | 6/12 [15:21<19:32, 195.48s/it]\n",
      "0it [00:00, ?it/s]\u001b[A\n",
      " 58%|███████████████████████████████████████████████▊                                  | 7/12 [16:21<12:35, 151.18s/it]\n",
      "0it [00:00, ?it/s]\u001b[A\n",
      " 67%|██████████████████████████████████████████████████████▋                           | 8/12 [22:54<15:12, 228.11s/it]\n",
      "0it [00:00, ?it/s]\u001b[A\n",
      " 75%|█████████████████████████████████████████████████████████████▌                    | 9/12 [26:27<11:10, 223.58s/it]\n",
      "0it [00:00, ?it/s]\u001b[A\n",
      " 83%|███████████████████████████████████████████████████████████████████▌             | 10/12 [28:44<06:33, 196.74s/it]\n",
      "0it [00:00, ?it/s]\u001b[A\n",
      " 92%|██████████████████████████████████████████████████████████████████████████▎      | 11/12 [29:56<02:38, 158.62s/it]\n",
      "0it [00:00, ?it/s]\u001b[A\n",
      "100%|█████████████████████████████████████████████████████████████████████████████████| 12/12 [31:25<00:00, 157.11s/it]\n"
     ]
    }
   ],
   "source": [
    "AlignImage.align_measurements()"
   ]
  },
  {
   "cell_type": "code",
   "execution_count": null,
   "id": "0cf3de29",
   "metadata": {},
   "outputs": [],
   "source": []
  }
 ],
 "metadata": {
  "kernelspec": {
   "display_name": "Python 3 (ipykernel)",
   "language": "python",
   "name": "python3"
  },
  "language_info": {
   "codemirror_mode": {
    "name": "ipython",
    "version": 3
   },
   "file_extension": ".py",
   "mimetype": "text/x-python",
   "name": "python",
   "nbconvert_exporter": "python",
   "pygments_lexer": "ipython3",
   "version": "3.8.17"
  }
 },
 "nbformat": 4,
 "nbformat_minor": 5
}
