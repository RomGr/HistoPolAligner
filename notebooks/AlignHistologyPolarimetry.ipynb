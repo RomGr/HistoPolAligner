{
 "cells": [
  {
   "cell_type": "code",
   "execution_count": 1,
   "id": "6d9ea8d5",
   "metadata": {},
   "outputs": [],
   "source": [
    "%load_ext autoreload\n",
    "%autoreload 2\n",
    "\n",
    "from histopolalign import AlignImage"
   ]
  },
  {
   "cell_type": "code",
   "execution_count": 2,
   "id": "6d065bec",
   "metadata": {},
   "outputs": [
    {
     "name": "stderr",
     "output_type": "stream",
     "text": [
      "  0%|                                                                                           | 0/17 [00:00<?, ?it/s]\n",
      "0it [00:00, ?it/s]\u001b[A\n",
      "  6%|████▊                                                                             | 1/17 [01:43<27:37, 103.60s/it]\n",
      "0it [00:00, ?it/s]\u001b[A\n",
      " 12%|█████████▊                                                                         | 2/17 [03:10<23:29, 93.99s/it]\n",
      "0it [00:00, ?it/s]\u001b[A\n",
      " 18%|██████████████▋                                                                    | 3/17 [04:50<22:31, 96.56s/it]\n",
      "0it [00:00, ?it/s]\u001b[A\n",
      " 24%|███████████████████▌                                                               | 4/17 [06:18<20:10, 93.10s/it]\n",
      "0it [00:00, ?it/s]\u001b[A\n",
      " 29%|████████████████████████                                                          | 5/17 [08:16<20:26, 102.22s/it]\n",
      "0it [00:00, ?it/s]\u001b[A\n",
      " 35%|█████████████████████████████▎                                                     | 6/17 [09:41<17:39, 96.33s/it]\n",
      "0it [00:00, ?it/s]\u001b[A\n",
      " 41%|██████████████████████████████████▏                                                | 7/17 [11:15<15:53, 95.38s/it]\n",
      "0it [00:00, ?it/s]\u001b[A\n",
      " 47%|██████████████████████████████████████▌                                           | 8/17 [17:13<26:51, 179.05s/it]\n",
      "0it [00:00, ?it/s]\u001b[A\n",
      " 53%|███████████████████████████████████████████▍                                      | 9/17 [18:21<19:14, 144.36s/it]\n",
      "0it [00:00, ?it/s]\u001b[A\n",
      " 59%|███████████████████████████████████████████████▋                                 | 10/17 [19:19<13:45, 117.87s/it]\n",
      "0it [00:00, ?it/s]\u001b[A\n",
      " 65%|████████████████████████████████████████████████████▍                            | 11/17 [24:39<17:58, 179.74s/it]\n",
      "0it [00:00, ?it/s]\u001b[A\n",
      " 71%|█████████████████████████████████████████████████████████▏                       | 12/17 [31:37<21:00, 252.05s/it]\n",
      "0it [00:00, ?it/s]\u001b[A\n",
      " 76%|█████████████████████████████████████████████████████████████▉                   | 13/17 [35:45<16:43, 250.85s/it]\n",
      "0it [00:00, ?it/s]\u001b[A\n",
      " 82%|██████████████████████████████████████████████████████████████████▋              | 14/17 [37:41<10:30, 210.05s/it]\n",
      "0it [00:00, ?it/s]\u001b[A\n",
      " 88%|███████████████████████████████████████████████████████████████████████▍         | 15/17 [38:37<05:27, 163.59s/it]\n",
      "0it [00:00, ?it/s]\u001b[A\n",
      " 94%|████████████████████████████████████████████████████████████████████████████▏    | 16/17 [39:56<02:18, 138.34s/it]\n",
      "  0%|                                                                                            | 0/1 [00:01<?, ?it/s]\u001b[A\n",
      " 94%|████████████████████████████████████████████████████████████████████████████▏    | 16/17 [39:58<02:29, 149.88s/it]"
     ]
    },
    {
     "name": "stdout",
     "output_type": "stream",
     "text": [
      "{}\n",
      "{} 2022-11-22_T_HORAO-68-BF_FR_S2_1\n",
      "./temp_processing\\2022-11-22_T_HORAO-68-BF_FR_S2_1 2022-11-22 00:00:00\n"
     ]
    },
    {
     "name": "stderr",
     "output_type": "stream",
     "text": [
      "\n"
     ]
    },
    {
     "ename": "ValueError",
     "evalue": "zero-size array to reduction operation minimum which has no identity",
     "output_type": "error",
     "traceback": [
      "\u001b[1;31m---------------------------------------------------------------------------\u001b[0m",
      "\u001b[1;31mValueError\u001b[0m                                Traceback (most recent call last)",
      "Cell \u001b[1;32mIn[2], line 1\u001b[0m\n\u001b[1;32m----> 1\u001b[0m \u001b[43mAlignImage\u001b[49m\u001b[38;5;241;43m.\u001b[39;49m\u001b[43malign_measurements\u001b[49m\u001b[43m(\u001b[49m\u001b[43m)\u001b[49m\n",
      "File \u001b[1;32m~\\Documents\\PathologyPaper\\src\\histopolalign\\AlignImage.py:10\u001b[0m, in \u001b[0;36malign_measurements\u001b[1;34m()\u001b[0m\n\u001b[0;32m      8\u001b[0m \u001b[38;5;28;01mfor\u001b[39;00m folder \u001b[38;5;129;01min\u001b[39;00m tqdm(os\u001b[38;5;241m.\u001b[39mlistdir(neoplastic_polarimetry_path)):\n\u001b[0;32m      9\u001b[0m     \u001b[38;5;28;01massert\u001b[39;00m \u001b[38;5;28mlen\u001b[39m(os\u001b[38;5;241m.\u001b[39mlistdir(os\u001b[38;5;241m.\u001b[39mpath\u001b[38;5;241m.\u001b[39mjoin(neoplastic_polarimetry_path, folder))) \u001b[38;5;241m>\u001b[39m \u001b[38;5;241m0\u001b[39m, \u001b[38;5;124m'\u001b[39m\u001b[38;5;124mNo measurements in folder \u001b[39m\u001b[38;5;132;01m{}\u001b[39;00m\u001b[38;5;124m'\u001b[39m\u001b[38;5;241m.\u001b[39mformat(folder)\n\u001b[1;32m---> 10\u001b[0m     \u001b[43malign_single_measurement\u001b[49m\u001b[43m(\u001b[49m\u001b[43mfolder\u001b[49m\u001b[43m,\u001b[49m\u001b[43m \u001b[49m\u001b[43mneoplastic_polarimetry_path\u001b[49m\u001b[43m \u001b[49m\u001b[38;5;241;43m=\u001b[39;49m\u001b[43m \u001b[49m\u001b[43mneoplastic_polarimetry_path\u001b[49m\u001b[43m)\u001b[49m\n",
      "File \u001b[1;32m~\\Documents\\PathologyPaper\\src\\histopolalign\\AlignImage.py:26\u001b[0m, in \u001b[0;36malign_single_measurement\u001b[1;34m(neoplastic_folder, neoplastic_polarimetry_path)\u001b[0m\n\u001b[0;32m     24\u001b[0m \u001b[38;5;66;03m# process the measurements, if needed\u001b[39;00m\n\u001b[0;32m     25\u001b[0m calib_directory \u001b[38;5;241m=\u001b[39m os\u001b[38;5;241m.\u001b[39mpath\u001b[38;5;241m.\u001b[39mjoin(os\u001b[38;5;241m.\u001b[39mgetcwd()\u001b[38;5;241m.\u001b[39msplit(\u001b[38;5;124m'\u001b[39m\u001b[38;5;124mnotebooks\u001b[39m\u001b[38;5;124m'\u001b[39m)[\u001b[38;5;241m0\u001b[39m], \u001b[38;5;124m'\u001b[39m\u001b[38;5;124mcalib\u001b[39m\u001b[38;5;124m'\u001b[39m)\n\u001b[1;32m---> 26\u001b[0m \u001b[43mbatch_processing\u001b[49m\u001b[38;5;241;43m.\u001b[39;49m\u001b[43mbatch_process\u001b[49m\u001b[43m(\u001b[49m\u001b[43mdirectories\u001b[49m\u001b[43m,\u001b[49m\u001b[43m \u001b[49m\u001b[43mcalib_directory\u001b[49m\u001b[43m,\u001b[49m\u001b[43m \u001b[49m\u001b[43mrun_all\u001b[49m\u001b[43m \u001b[49m\u001b[38;5;241;43m=\u001b[39;49m\u001b[43m \u001b[49m\u001b[38;5;28;43;01mFalse\u001b[39;49;00m\u001b[43m)\u001b[49m\n\u001b[0;32m     29\u001b[0m \u001b[38;5;66;03m# 2. Get the combined masks for the histology folders\u001b[39;00m\n\u001b[0;32m     30\u001b[0m \n\u001b[0;32m     31\u001b[0m \u001b[38;5;66;03m# create the folde that will be used to align pathology and polarimetry\u001b[39;00m\n\u001b[0;32m     32\u001b[0m combine_images\u001b[38;5;241m.\u001b[39mcreate_to_align_folder()\n",
      "File \u001b[1;32m~\\Documents\\processingMM\\src\\processingmm\\batch_processing.py:370\u001b[0m, in \u001b[0;36mbatch_process\u001b[1;34m(directories, calib_directory, folder_eu_time, run_all, parameter_set, max_nb, target_temp, PDDN)\u001b[0m\n\u001b[0;32m    368\u001b[0m \u001b[38;5;66;03m# process the mueller matrix and generate the visualizations\u001b[39;00m\n\u001b[0;32m    369\u001b[0m measurements_directory \u001b[38;5;241m=\u001b[39m \u001b[38;5;124m'\u001b[39m\u001b[38;5;124m./temp_processing\u001b[39m\u001b[38;5;124m'\u001b[39m\n\u001b[1;32m--> 370\u001b[0m calibration_directories, parameters_set \u001b[38;5;241m=\u001b[39m \u001b[43mprocess_MM\u001b[49m\u001b[43m(\u001b[49m\u001b[43mmeasurements_directory\u001b[49m\u001b[43m,\u001b[49m\u001b[43m \u001b[49m\u001b[43mcalib_directory\u001b[49m\u001b[43m,\u001b[49m\u001b[43m \u001b[49m\u001b[43mfolder_eu_time\u001b[49m\u001b[43m \u001b[49m\u001b[38;5;241;43m=\u001b[39;49m\u001b[43m \u001b[49m\u001b[43mfolder_eu_time\u001b[49m\u001b[43m,\u001b[49m\u001b[43m \u001b[49m\u001b[43mrun_all\u001b[49m\u001b[43m \u001b[49m\u001b[38;5;241;43m=\u001b[39;49m\u001b[43m \u001b[49m\u001b[43mrun_all\u001b[49m\u001b[43m,\u001b[49m\u001b[43m \u001b[49m\u001b[43mparameter_set\u001b[49m\u001b[43m \u001b[49m\u001b[38;5;241;43m=\u001b[39;49m\u001b[43m \u001b[49m\u001b[43mparameter_set\u001b[49m\u001b[43m,\u001b[49m\u001b[43m \u001b[49m\u001b[43mPDDN\u001b[49m\u001b[43m \u001b[49m\u001b[38;5;241;43m=\u001b[39;49m\u001b[43m \u001b[49m\u001b[43mPDDN\u001b[49m\u001b[43m)\u001b[49m\n\u001b[0;32m    372\u001b[0m \u001b[38;5;28;01mfor\u001b[39;00m folder \u001b[38;5;129;01min\u001b[39;00m to_process_temp:\n\u001b[0;32m    373\u001b[0m     \u001b[38;5;28;01mtry\u001b[39;00m:\n",
      "File \u001b[1;32m~\\Documents\\processingMM\\src\\processingmm\\batch_processing.py:241\u001b[0m, in \u001b[0;36mprocess_MM\u001b[1;34m(measurement_directory, calib_directory, folder_eu_time, run_all, parameter_set, PDDN)\u001b[0m\n\u001b[0;32m    238\u001b[0m calib_directory_dates_num \u001b[38;5;241m=\u001b[39m multi_img_processing\u001b[38;5;241m.\u001b[39mget_calibration_dates(calib_directory)\n\u001b[0;32m    240\u001b[0m \u001b[38;5;66;03m# compute the MMs\u001b[39;00m\n\u001b[1;32m--> 241\u001b[0m MuellerMatrices, calibration_directories \u001b[38;5;241m=\u001b[39m \u001b[43mMM_processing\u001b[49m\u001b[38;5;241;43m.\u001b[39;49m\u001b[43mcompute_analysis_python\u001b[49m\u001b[43m(\u001b[49m\u001b[43mmeasurement_directory\u001b[49m\u001b[43m,\u001b[49m\u001b[43m \u001b[49m\n\u001b[0;32m    242\u001b[0m \u001b[43m                                    \u001b[49m\u001b[43mcalib_directory_dates_num\u001b[49m\u001b[43m,\u001b[49m\u001b[43m \u001b[49m\u001b[43mcalib_directory\u001b[49m\u001b[43m,\u001b[49m\u001b[43m \u001b[49m\u001b[43mto_compute\u001b[49m\u001b[43m,\u001b[49m\u001b[43m \u001b[49m\u001b[43mfolder_eu_time\u001b[49m\u001b[43m \u001b[49m\u001b[38;5;241;43m=\u001b[39;49m\u001b[43m \u001b[49m\u001b[43mfolder_eu_time\u001b[49m\u001b[43m,\u001b[49m\u001b[43m \u001b[49m\u001b[43mrun_all\u001b[49m\u001b[43m \u001b[49m\u001b[38;5;241;43m=\u001b[39;49m\u001b[43m \u001b[49m\u001b[43mrun_all\u001b[49m\u001b[43m,\u001b[49m\u001b[43m \u001b[49m\u001b[43mbatch_processing\u001b[49m\u001b[43m \u001b[49m\u001b[38;5;241;43m=\u001b[39;49m\u001b[43m \u001b[49m\u001b[38;5;28;43;01mTrue\u001b[39;49;00m\u001b[43m,\u001b[49m\u001b[43m \u001b[49m\u001b[43mFlag\u001b[49m\u001b[43m \u001b[49m\u001b[38;5;241;43m=\u001b[39;49m\u001b[43m \u001b[49m\u001b[38;5;28;43;01mFalse\u001b[39;49;00m\u001b[43m,\u001b[49m\u001b[43m \u001b[49m\u001b[43mPDDN\u001b[49m\u001b[43m \u001b[49m\u001b[38;5;241;43m=\u001b[39;49m\u001b[43m \u001b[49m\u001b[43mPDDN\u001b[49m\u001b[43m)\u001b[49m\n\u001b[0;32m    243\u001b[0m MuellerMatrices_raw \u001b[38;5;241m=\u001b[39m MuellerMatrices\n\u001b[0;32m    245\u001b[0m \u001b[38;5;66;03m# and generate the different plots\u001b[39;00m\n",
      "File \u001b[1;32m~\\Documents\\processingMM\\src\\processingmm\\MM_processing.py:59\u001b[0m, in \u001b[0;36mcompute_analysis_python\u001b[1;34m(measurements_directory, calib_directory_dates_num, calib_directory, to_compute, PDDN, remove_reflection, folder_eu_time, run_all, batch_processing, Flag)\u001b[0m\n\u001b[0;32m     57\u001b[0m \u001b[38;5;28;01melse\u001b[39;00m:\n\u001b[0;32m     58\u001b[0m     \u001b[38;5;28;01mfor\u001b[39;00m c \u001b[38;5;129;01min\u001b[39;00m to_compute:\n\u001b[1;32m---> 59\u001b[0m         calibration_directory_closest \u001b[38;5;241m=\u001b[39m \u001b[43mcompute_one_MM\u001b[49m\u001b[43m(\u001b[49m\u001b[43mmeasurements_directory\u001b[49m\u001b[43m,\u001b[49m\u001b[43m \u001b[49m\u001b[43mcalib_directory_dates_num\u001b[49m\u001b[43m,\u001b[49m\u001b[43m \u001b[49m\u001b[43mcalib_directory\u001b[49m\u001b[43m,\u001b[49m\n\u001b[0;32m     60\u001b[0m \u001b[43m                                                \u001b[49m\u001b[43mMuellerMatrices\u001b[49m\u001b[43m,\u001b[49m\u001b[43m \u001b[49m\u001b[43mtreshold\u001b[49m\u001b[43m,\u001b[49m\u001b[43m \u001b[49m\u001b[43mc\u001b[49m\u001b[43m,\u001b[49m\u001b[43m \u001b[49m\u001b[43mPDDN\u001b[49m\u001b[43m \u001b[49m\u001b[38;5;241;43m=\u001b[39;49m\u001b[43m \u001b[49m\u001b[43mPDDN\u001b[49m\u001b[43m,\u001b[49m\u001b[43m \u001b[49m\u001b[43mfolder_eu_time\u001b[49m\u001b[43m \u001b[49m\u001b[38;5;241;43m=\u001b[39;49m\u001b[43m \u001b[49m\u001b[43mfolder_eu_time\u001b[49m\u001b[43m,\u001b[49m\u001b[43m \u001b[49m\u001b[43mremove_reflection\u001b[49m\u001b[43m \u001b[49m\u001b[38;5;241;43m=\u001b[39;49m\u001b[43m \u001b[49m\u001b[43mremove_reflection\u001b[49m\u001b[43m,\u001b[49m\u001b[43m \u001b[49m\u001b[43mFlag\u001b[49m\u001b[43m \u001b[49m\u001b[38;5;241;43m=\u001b[39;49m\u001b[43m \u001b[49m\u001b[43mFlag\u001b[49m\u001b[43m)\u001b[49m\n\u001b[0;32m     61\u001b[0m         calibration_directories[c] \u001b[38;5;241m=\u001b[39m calibration_directory_closest\n\u001b[0;32m     62\u001b[0m \u001b[38;5;28;01mreturn\u001b[39;00m MuellerMatrices, calibration_directories\n",
      "File \u001b[1;32m~\\Documents\\processingMM\\src\\processingmm\\MM_processing.py:108\u001b[0m, in \u001b[0;36mcompute_one_MM\u001b[1;34m(measurements_directory, calib_directory_dates_num, calib_directory, MuellerMatrices, treshold, c, PDDN, folder_eu_time, remove_reflection, pbar, Flag)\u001b[0m\n\u001b[0;32m    106\u001b[0m \u001b[38;5;66;03m# get the corresponding calibration_directory\u001b[39;00m\n\u001b[0;32m    107\u001b[0m \u001b[38;5;28mprint\u001b[39m(folder_eu_time)\n\u001b[1;32m--> 108\u001b[0m calibration_directory_closest \u001b[38;5;241m=\u001b[39m \u001b[43mget_calibration_directory\u001b[49m\u001b[43m(\u001b[49m\u001b[43mcalib_directory_dates_num\u001b[49m\u001b[43m,\u001b[49m\u001b[43m \u001b[49m\u001b[43mpath\u001b[49m\u001b[43m,\u001b[49m\u001b[43m \u001b[49m\u001b[43mcalib_directory\u001b[49m\u001b[43m,\u001b[49m\u001b[43m \u001b[49m\u001b[43mdirectories\u001b[49m\u001b[43m,\u001b[49m\u001b[43m \u001b[49m\u001b[43mfolder_eu_time\u001b[49m\u001b[43m \u001b[49m\u001b[38;5;241;43m=\u001b[39;49m\u001b[43m \u001b[49m\u001b[43mfolder_eu_time\u001b[49m\u001b[43m,\u001b[49m\u001b[43m \u001b[49m\u001b[43mFlag\u001b[49m\u001b[43m \u001b[49m\u001b[38;5;241;43m=\u001b[39;49m\u001b[43m \u001b[49m\u001b[43mFlag\u001b[49m\u001b[43m)\u001b[49m\n\u001b[0;32m    110\u001b[0m \u001b[38;5;28;01mfor\u001b[39;00m d \u001b[38;5;129;01min\u001b[39;00m directories:\n\u001b[0;32m    111\u001b[0m                     \n\u001b[0;32m    112\u001b[0m     \u001b[38;5;66;03m# get the wavelength for the folder name\u001b[39;00m\n\u001b[0;32m    113\u001b[0m     wavelength \u001b[38;5;241m=\u001b[39m get_wavelength(d)\n",
      "File \u001b[1;32m~\\Documents\\processingMM\\src\\processingmm\\multi_img_processing.py:169\u001b[0m, in \u001b[0;36mget_calibration_directory\u001b[1;34m(calib_directory_dates_num, path, calib_directory, directories, folder_eu_time, Flag, idx)\u001b[0m\n\u001b[0;32m    166\u001b[0m \u001b[38;5;28mprint\u001b[39m(path, date_measurement)\n\u001b[0;32m    168\u001b[0m \u001b[38;5;66;03m# find the data that is the closest in the calibration directory\u001b[39;00m\n\u001b[1;32m--> 169\u001b[0m closest_date \u001b[38;5;241m=\u001b[39m \u001b[43mfind_closest_date\u001b[49m\u001b[43m(\u001b[49m\u001b[43mdate_measurement\u001b[49m\u001b[43m,\u001b[49m\u001b[43m \u001b[49m\u001b[43mcalib_directory_dates_num\u001b[49m\u001b[43m,\u001b[49m\u001b[43m \u001b[49m\u001b[43mdirectories\u001b[49m\u001b[43m,\u001b[49m\u001b[43m \u001b[49m\u001b[43mcalib_directory\u001b[49m\u001b[43m,\u001b[49m\u001b[43m \u001b[49m\u001b[43mFlag\u001b[49m\u001b[43m \u001b[49m\u001b[38;5;241;43m=\u001b[39;49m\u001b[43m \u001b[49m\u001b[43mFlag\u001b[49m\u001b[43m)\u001b[49m\n\u001b[0;32m    170\u001b[0m directories_calib \u001b[38;5;241m=\u001b[39m os\u001b[38;5;241m.\u001b[39mlistdir(calib_directory)\n\u001b[0;32m    171\u001b[0m calib_folder \u001b[38;5;241m=\u001b[39m []\n",
      "File \u001b[1;32m~\\Documents\\processingMM\\src\\processingmm\\multi_img_processing.py:250\u001b[0m, in \u001b[0;36mfind_closest_date\u001b[1;34m(date_measurement, calib_dates_complete, directories, calib_directory, Flag)\u001b[0m\n\u001b[0;32m    247\u001b[0m     durations\u001b[38;5;241m.\u001b[39mappend(\u001b[38;5;28mabs\u001b[39m((calib \u001b[38;5;241m-\u001b[39m date_measurement)\u001b[38;5;241m.\u001b[39mdays))\n\u001b[0;32m    249\u001b[0m \u001b[38;5;66;03m# get the smallest indexs\u001b[39;00m\n\u001b[1;32m--> 250\u001b[0m min_idx \u001b[38;5;241m=\u001b[39m np\u001b[38;5;241m.\u001b[39mwhere(np\u001b[38;5;241m.\u001b[39marray(durations) \u001b[38;5;241m==\u001b[39m \u001b[43mnp\u001b[49m\u001b[38;5;241;43m.\u001b[39;49m\u001b[43marray\u001b[49m\u001b[43m(\u001b[49m\u001b[43mdurations\u001b[49m\u001b[43m)\u001b[49m\u001b[38;5;241;43m.\u001b[39;49m\u001b[43mmin\u001b[49m\u001b[43m(\u001b[49m\u001b[43m)\u001b[49m)[\u001b[38;5;241m0\u001b[39m]\n\u001b[0;32m    251\u001b[0m min_idx_distance \u001b[38;5;241m=\u001b[39m min_idx[\u001b[38;5;241m0\u001b[39m]\n\u001b[0;32m    252\u001b[0m min_duration_distance \u001b[38;5;241m=\u001b[39m durations[min_idx_distance]\n",
      "File \u001b[1;32m~\\.conda\\envs\\pyimagej\\lib\\site-packages\\numpy\\core\\_methods.py:44\u001b[0m, in \u001b[0;36m_amin\u001b[1;34m(a, axis, out, keepdims, initial, where)\u001b[0m\n\u001b[0;32m     42\u001b[0m \u001b[38;5;28;01mdef\u001b[39;00m \u001b[38;5;21m_amin\u001b[39m(a, axis\u001b[38;5;241m=\u001b[39m\u001b[38;5;28;01mNone\u001b[39;00m, out\u001b[38;5;241m=\u001b[39m\u001b[38;5;28;01mNone\u001b[39;00m, keepdims\u001b[38;5;241m=\u001b[39m\u001b[38;5;28;01mFalse\u001b[39;00m,\n\u001b[0;32m     43\u001b[0m           initial\u001b[38;5;241m=\u001b[39m_NoValue, where\u001b[38;5;241m=\u001b[39m\u001b[38;5;28;01mTrue\u001b[39;00m):\n\u001b[1;32m---> 44\u001b[0m     \u001b[38;5;28;01mreturn\u001b[39;00m \u001b[43mumr_minimum\u001b[49m\u001b[43m(\u001b[49m\u001b[43ma\u001b[49m\u001b[43m,\u001b[49m\u001b[43m \u001b[49m\u001b[43maxis\u001b[49m\u001b[43m,\u001b[49m\u001b[43m \u001b[49m\u001b[38;5;28;43;01mNone\u001b[39;49;00m\u001b[43m,\u001b[49m\u001b[43m \u001b[49m\u001b[43mout\u001b[49m\u001b[43m,\u001b[49m\u001b[43m \u001b[49m\u001b[43mkeepdims\u001b[49m\u001b[43m,\u001b[49m\u001b[43m \u001b[49m\u001b[43minitial\u001b[49m\u001b[43m,\u001b[49m\u001b[43m \u001b[49m\u001b[43mwhere\u001b[49m\u001b[43m)\u001b[49m\n",
      "\u001b[1;31mValueError\u001b[0m: zero-size array to reduction operation minimum which has no identity"
     ]
    }
   ],
   "source": [
    "AlignImage.align_measurements()"
   ]
  },
  {
   "cell_type": "code",
   "execution_count": null,
   "id": "0cf3de29",
   "metadata": {},
   "outputs": [],
   "source": []
  }
 ],
 "metadata": {
  "kernelspec": {
   "display_name": "Python 3 (ipykernel)",
   "language": "python",
   "name": "python3"
  },
  "language_info": {
   "codemirror_mode": {
    "name": "ipython",
    "version": 3
   },
   "file_extension": ".py",
   "mimetype": "text/x-python",
   "name": "python",
   "nbconvert_exporter": "python",
   "pygments_lexer": "ipython3",
   "version": "3.8.17"
  }
 },
 "nbformat": 4,
 "nbformat_minor": 5
}
