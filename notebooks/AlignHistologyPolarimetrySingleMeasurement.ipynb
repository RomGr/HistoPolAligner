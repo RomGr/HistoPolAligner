{
 "cells": [
  {
   "cell_type": "code",
   "execution_count": 1,
   "id": "cb087723",
   "metadata": {},
   "outputs": [],
   "source": [
    "%load_ext autoreload\n",
    "%autoreload 2\n",
    "\n",
    "from tqdm import tqdm\n",
    "import os\n",
    "from processingmm import batch_processing\n",
    "from histopolalign import combine_images, prepare_images, semi_automatic_tool, align_folders, match_skeletons, align_imgs, get_numerical_results"
   ]
  },
  {
   "cell_type": "markdown",
   "id": "4d6a6897",
   "metadata": {},
   "source": [
    "# 1. Process the measurements that will be aligned"
   ]
  },
  {
   "cell_type": "code",
   "execution_count": 2,
   "id": "42b82948",
   "metadata": {},
   "outputs": [],
   "source": [
    "# get the folder in which the polarimetric measurements are stored\n",
    "neoplastic_polarimetry_path = os.path.join(os.getcwd().split('notebooks')[0], 'data', 'TumorMeasurements')\n",
    "neoplastic_folder = '21'\n",
    "polarimetry_path = os.path.join(neoplastic_polarimetry_path, neoplastic_folder)\n",
    "directories = [os.path.join(neoplastic_polarimetry_path, neoplastic_folder)]"
   ]
  },
  {
   "cell_type": "code",
   "execution_count": 3,
   "id": "cc644e26",
   "metadata": {},
   "outputs": [
    {
     "name": "stderr",
     "output_type": "stream",
     "text": [
      "Traceback (most recent call last):\n",
      "  File \"C:\\Users\\romai\\Documents\\processingMM\\src\\processingmm\\batch_processing.py\", line 70, in find_folder_name\n",
      "    assert len(re.findall(\"[\\d]{4}-[\\d]{2}-[\\d]{2}\", root)) == 1\n",
      "AssertionError\n",
      "0it [00:00, ?it/s]\n"
     ]
    },
    {
     "data": {
      "text/plain": [
       "[]"
      ]
     },
     "execution_count": 3,
     "metadata": {},
     "output_type": "execute_result"
    }
   ],
   "source": [
    "# process the measurements, if needed\n",
    "calib_directory = os.path.join(os.getcwd().split('notebooks')[0], 'calib')\n",
    "batch_processing.batch_process(directories, calib_directory, run_all = False)"
   ]
  },
  {
   "cell_type": "markdown",
   "id": "becabf5b",
   "metadata": {},
   "source": [
    "# 2. Get the combined masks for the histology folders"
   ]
  },
  {
   "cell_type": "code",
   "execution_count": 8,
   "id": "ba0d8c61",
   "metadata": {
    "scrolled": true
   },
   "outputs": [
    {
     "name": "stderr",
     "output_type": "stream",
     "text": [
      "100%|██████████████████████████████████████████████████████████████████████████████████| 33/33 [00:02<00:00, 14.71it/s]\n"
     ]
    },
    {
     "name": "stdout",
     "output_type": "stream",
     "text": [
      "Load the images: 2.261 seconds.\n",
      "Get combined images: 0.384 seconds.\n"
     ]
    }
   ],
   "source": [
    "# create the folde that will be used to align pathology and polarimetry\n",
    "combine_images.create_to_align_folder()\n",
    "\n",
    "# load the pathology images...\n",
    "histology_path = os.path.join(os.getcwd().split('notebooks')[0], 'data', 'HistologyResults')\n",
    "imgs_all = combine_images.load_the_images(histology_path, Verbose = True)\n",
    "\n",
    "# ...and process them\n",
    "combine_images.get_combined_img(imgs_all, force_recompute = True, Verbose = True)"
   ]
  },
  {
   "cell_type": "markdown",
   "id": "7953c893",
   "metadata": {},
   "source": [
    "# 3. Obtain the parameters (manually using the GUI) to first align the histology and the polarimetry"
   ]
  },
  {
   "cell_type": "markdown",
   "id": "6802a610",
   "metadata": {},
   "source": [
    "### 3.1. Prepare the images"
   ]
  },
  {
   "cell_type": "code",
   "execution_count": 13,
   "id": "968a7289",
   "metadata": {},
   "outputs": [
    {
     "name": "stdout",
     "output_type": "stream",
     "text": [
      "Get polarimetry filenames and rename images: 0.001 seconds.\n",
      "Create the alignment objects: 0.004 seconds.\n"
     ]
    },
    {
     "data": {
      "text/plain": [
       "[Folder path: C:\\Users\\romai\\Documents\\PathologyPaper\\data\\TumorMeasurements\\21\\2022-06-29_T_HORAO-21-AF_FR_S2_1, histology path : C:\\Users\\romai\\Documents\\PathologyPaper\\data\\HistologyResults\\21\\HORAO-21-S2-3,  status: initialized,\n",
       " Folder path: C:\\Users\\romai\\Documents\\PathologyPaper\\data\\TumorMeasurements\\21\\2022-06-29_T_HORAO-21-BF_FR_S2_1, histology path : C:\\Users\\romai\\Documents\\PathologyPaper\\data\\HistologyResults\\21\\HORAO-21-S2-1,  status: initialized]"
      ]
     },
     "execution_count": 13,
     "metadata": {},
     "output_type": "execute_result"
    }
   ],
   "source": [
    "alignment_measurements = prepare_images.create_the_alignments(histology_path, polarimetry_path, Verbose = True)\n",
    "alignment_measurements"
   ]
  },
  {
   "cell_type": "markdown",
   "id": "33733d8e",
   "metadata": {},
   "source": [
    "### 3.2. Load the polarimetry, labels and histology (H&E) images for each polarimetry folder"
   ]
  },
  {
   "cell_type": "code",
   "execution_count": 14,
   "id": "838a85ba",
   "metadata": {
    "scrolled": true
   },
   "outputs": [
    {
     "name": "stderr",
     "output_type": "stream",
     "text": [
      "\r",
      "  0%|                                                                                            | 0/2 [00:00<?, ?it/s]"
     ]
    },
    {
     "name": "stdout",
     "output_type": "stream",
     "text": [
      "Get the images and center of mass: 1.443 seconds.\n"
     ]
    },
    {
     "name": "stderr",
     "output_type": "stream",
     "text": [
      "\r",
      " 50%|██████████████████████████████████████████                                          | 1/2 [00:01<00:01,  1.70s/it]"
     ]
    },
    {
     "name": "stdout",
     "output_type": "stream",
     "text": [
      "Load the images: 0.260 seconds.\n",
      "Get the images and center of mass: 1.199 seconds.\n"
     ]
    },
    {
     "name": "stderr",
     "output_type": "stream",
     "text": [
      "100%|████████████████████████████████████████████████████████████████████████████████████| 2/2 [00:03<00:00,  1.56s/it]"
     ]
    },
    {
     "name": "stdout",
     "output_type": "stream",
     "text": [
      "Load the images: 0.214 seconds.\n"
     ]
    },
    {
     "name": "stderr",
     "output_type": "stream",
     "text": [
      "\n"
     ]
    }
   ],
   "source": [
    "alignment_measurements = prepare_images.load_and_preprocess_imgs(alignment_measurements, force_recompute = False, Verbose = True)"
   ]
  },
  {
   "cell_type": "markdown",
   "id": "b8b43b9d",
   "metadata": {},
   "source": [
    "### 3.3. Semi-automatic rotation/alignement tool"
   ]
  },
  {
   "cell_type": "code",
   "execution_count": 15,
   "id": "7840e74b",
   "metadata": {},
   "outputs": [],
   "source": [
    "for measurement in alignment_measurements:\n",
    "    selector = semi_automatic_tool.ask_for_parameters(measurement, force_recompute = True)"
   ]
  },
  {
   "cell_type": "markdown",
   "id": "a45a0457",
   "metadata": {},
   "source": [
    "# 4. Actually perform the alignment"
   ]
  },
  {
   "cell_type": "code",
   "execution_count": 16,
   "id": "b6b1e23a",
   "metadata": {},
   "outputs": [
    {
     "name": "stderr",
     "output_type": "stream",
     "text": [
      " 50%|██████████████████████████████████████████                                          | 1/2 [00:00<00:00,  2.23it/s]"
     ]
    },
    {
     "name": "stdout",
     "output_type": "stream",
     "text": [
      "Process the images to apply the selected changes: 0.311 seconds.\n",
      "Save the processed images: 0.042 seconds.\n"
     ]
    },
    {
     "name": "stderr",
     "output_type": "stream",
     "text": [
      "100%|████████████████████████████████████████████████████████████████████████████████████| 2/2 [00:01<00:00,  1.95it/s]"
     ]
    },
    {
     "name": "stdout",
     "output_type": "stream",
     "text": [
      "Process the images to apply the selected changes: 0.462 seconds.\n",
      "Save the processed images: 0.037 seconds.\n"
     ]
    },
    {
     "name": "stderr",
     "output_type": "stream",
     "text": [
      "\n"
     ]
    }
   ],
   "source": [
    "align_folders.create_align_folders(alignment_measurements, Verbose = True)"
   ]
  },
  {
   "cell_type": "markdown",
   "id": "78079cec",
   "metadata": {},
   "source": [
    "### 4.1. Automatic part"
   ]
  },
  {
   "cell_type": "code",
   "execution_count": 17,
   "id": "a33ea1c9",
   "metadata": {},
   "outputs": [
    {
     "name": "stderr",
     "output_type": "stream",
     "text": [
      " 50%|██████████████████████████████████████████                                          | 1/2 [00:16<00:16, 16.83s/it]"
     ]
    },
    {
     "name": "stdout",
     "output_type": "stream",
     "text": [
      "Match the two skeletons: 16.825 seconds.\n"
     ]
    },
    {
     "name": "stderr",
     "output_type": "stream",
     "text": [
      "100%|████████████████████████████████████████████████████████████████████████████████████| 2/2 [00:32<00:00, 16.15s/it]"
     ]
    },
    {
     "name": "stdout",
     "output_type": "stream",
     "text": [
      "Match the two skeletons: 15.477 seconds.\n"
     ]
    },
    {
     "name": "stderr",
     "output_type": "stream",
     "text": [
      "\n"
     ]
    }
   ],
   "source": [
    "border_parameter = 5\n",
    "nsamples = 400\n",
    "max_distance = 150\n",
    "\n",
    "for measurement in tqdm(alignment_measurements):\n",
    "    match_skeletons.match_skeletons(measurement, border_parameter, nsamples = nsamples, max_distance = max_distance,\n",
    "                                                                   Verbose = True)"
   ]
  },
  {
   "cell_type": "markdown",
   "id": "d0e2c6c1",
   "metadata": {},
   "source": [
    "### 4.2. Semi-automatic part"
   ]
  },
  {
   "cell_type": "code",
   "execution_count": 19,
   "id": "91263e67",
   "metadata": {},
   "outputs": [],
   "source": [
    "align_folders.semi_automatic_processing(alignment_measurements)"
   ]
  },
  {
   "cell_type": "code",
   "execution_count": 20,
   "id": "588d3082",
   "metadata": {},
   "outputs": [],
   "source": [
    "alignment_measurements = align_imgs.align_img_master(alignment_measurements)"
   ]
  },
  {
   "cell_type": "markdown",
   "id": "d8e59a03",
   "metadata": {},
   "source": [
    "### 4.3. Get the final masks and overlay them on the polarimetric parameter maps"
   ]
  },
  {
   "cell_type": "code",
   "execution_count": 21,
   "id": "7277f71f",
   "metadata": {
    "scrolled": true
   },
   "outputs": [
    {
     "name": "stderr",
     "output_type": "stream",
     "text": [
      "100%|████████████████████████████████████████████████████████████████████████████████████| 2/2 [00:31<00:00, 15.57s/it]\n"
     ]
    }
   ],
   "source": [
    "align_imgs.generate_final_masks(alignment_measurements, Verbose = False)"
   ]
  },
  {
   "cell_type": "markdown",
   "id": "015b85ac",
   "metadata": {},
   "source": [
    "### 4.4. Finalize and save the numerical results"
   ]
  },
  {
   "cell_type": "code",
   "execution_count": 22,
   "id": "a3e63baa",
   "metadata": {},
   "outputs": [],
   "source": [
    "values = get_numerical_results.create_numerical_values(alignment_measurements)"
   ]
  },
  {
   "cell_type": "code",
   "execution_count": null,
   "id": "953c82f2",
   "metadata": {},
   "outputs": [],
   "source": []
  }
 ],
 "metadata": {
  "kernelspec": {
   "display_name": "Python 3 (ipykernel)",
   "language": "python",
   "name": "python3"
  },
  "language_info": {
   "codemirror_mode": {
    "name": "ipython",
    "version": 3
   },
   "file_extension": ".py",
   "mimetype": "text/x-python",
   "name": "python",
   "nbconvert_exporter": "python",
   "pygments_lexer": "ipython3",
   "version": "3.8.17"
  }
 },
 "nbformat": 4,
 "nbformat_minor": 5
}
