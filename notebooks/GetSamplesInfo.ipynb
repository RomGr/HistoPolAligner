{
 "cells": [
  {
   "cell_type": "code",
   "execution_count": 5,
   "id": "0d79c3cc",
   "metadata": {},
   "outputs": [
    {
     "name": "stdout",
     "output_type": "stream",
     "text": [
      "The autoreload extension is already loaded. To reload it, use:\n",
      "  %reload_ext autoreload\n"
     ]
    }
   ],
   "source": [
    "%load_ext autoreload\n",
    "%autoreload 2\n",
    "from histopolalign.GetSamplesInfo import GetSamplesInfo"
   ]
  },
  {
   "cell_type": "code",
   "execution_count": 6,
   "id": "0d18c550",
   "metadata": {},
   "outputs": [
    {
     "name": "stdout",
     "output_type": "stream",
     "text": [
      "The samples were obtained from 29 different samples.\n",
      "We had a total of 51 measurements.\n",
      "\n",
      "Proportion Wowen = 39.21568627450981\n",
      "\n",
      "Mean Age = 52.23529411764706\n",
      "\n",
      "Tumor types:\n",
      "{'meningioma': 0, 'GBM': 19, 'astro': 13, 'oligo': 18, 'carcinoma': 1, 'papilloma': 0}\n",
      "\n",
      "\n",
      "Tumor types proportion:\n",
      "{'meningioma': 0.0, 'GBM': 37.254901960784316, 'astro': 25.49019607843137, 'oligo': 35.294117647058826, 'carcinoma': 1.9607843137254901, 'papilloma': 0.0}\n",
      "\n",
      "\n",
      "Tumor types mean age:\n",
      "{'meningioma': 0, 'GBM': 60.89473684210526, 'astro': 39.76923076923077, 'oligo': 50.666666666666664, 'carcinoma': 78.0, 'papilloma': 0}\n"
     ]
    }
   ],
   "source": [
    "df = GetSamplesInfo.return_samples_info()"
   ]
  },
  {
   "cell_type": "code",
   "execution_count": null,
   "id": "44133ed5",
   "metadata": {},
   "outputs": [],
   "source": []
  }
 ],
 "metadata": {
  "kernelspec": {
   "display_name": "Python 3 (ipykernel)",
   "language": "python",
   "name": "python3"
  },
  "language_info": {
   "codemirror_mode": {
    "name": "ipython",
    "version": 3
   },
   "file_extension": ".py",
   "mimetype": "text/x-python",
   "name": "python",
   "nbconvert_exporter": "python",
   "pygments_lexer": "ipython3",
   "version": "3.8.17"
  }
 },
 "nbformat": 4,
 "nbformat_minor": 5
}
