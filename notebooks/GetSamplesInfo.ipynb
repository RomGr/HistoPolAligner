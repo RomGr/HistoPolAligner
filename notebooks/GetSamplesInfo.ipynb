{
 "cells": [
  {
   "cell_type": "code",
   "execution_count": 1,
   "id": "0d79c3cc",
   "metadata": {},
   "outputs": [],
   "source": [
    "%load_ext autoreload\n",
    "%autoreload 2\n",
    "from histopolalign.GetSamplesInfo import GetSamplesInfo"
   ]
  },
  {
   "cell_type": "code",
   "execution_count": 2,
   "id": "0d18c550",
   "metadata": {},
   "outputs": [
    {
     "name": "stdout",
     "output_type": "stream",
     "text": [
      "The samples were obtained from 27 different samples.\n",
      "We had a total of 45 measurements.\n",
      "\n",
      "Proportion Wowen = 42.22222222222222\n",
      "\n",
      "Mean Age = 52.55555555555556\n",
      "\n",
      "Tumor types:\n",
      "{'meningioma': 0, 'GBM': 15, 'astro': 11, 'oligo': 18, 'carcinoma': 1, 'papilloma': 0}\n",
      "\n",
      "\n",
      "Tumor types proportion:\n",
      "{'meningioma': 0.0, 'GBM': 33.33333333333333, 'astro': 24.444444444444443, 'oligo': 40.0, 'carcinoma': 2.2222222222222223, 'papilloma': 0.0}\n",
      "\n",
      "\n",
      "Tumor types mean age:\n",
      "{'meningioma': 0, 'GBM': 61.93333333333333, 'astro': 40.54545454545455, 'oligo': 50.666666666666664, 'carcinoma': 78.0, 'papilloma': 0}\n"
     ]
    }
   ],
   "source": [
    "df = GetSamplesInfo.return_samples_info()"
   ]
  },
  {
   "cell_type": "code",
   "execution_count": null,
   "id": "44133ed5",
   "metadata": {},
   "outputs": [],
   "source": []
  }
 ],
 "metadata": {
  "kernelspec": {
   "display_name": "Python 3 (ipykernel)",
   "language": "python",
   "name": "python3"
  },
  "language_info": {
   "codemirror_mode": {
    "name": "ipython",
    "version": 3
   },
   "file_extension": ".py",
   "mimetype": "text/x-python",
   "name": "python",
   "nbconvert_exporter": "python",
   "pygments_lexer": "ipython3",
   "version": "3.8.17"
  }
 },
 "nbformat": 4,
 "nbformat_minor": 5
}
