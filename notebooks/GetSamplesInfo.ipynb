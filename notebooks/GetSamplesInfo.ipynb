{
 "cells": [
  {
   "cell_type": "code",
   "execution_count": 11,
   "id": "0d79c3cc",
   "metadata": {},
   "outputs": [
    {
     "name": "stdout",
     "output_type": "stream",
     "text": [
      "The autoreload extension is already loaded. To reload it, use:\n",
      "  %reload_ext autoreload\n"
     ]
    }
   ],
   "source": [
    "%load_ext autoreload\n",
    "%autoreload 2\n",
    "from histopolalign.GetSamplesInfo import GetSamplesInfo"
   ]
  },
  {
   "cell_type": "code",
   "execution_count": 12,
   "id": "0d18c550",
   "metadata": {},
   "outputs": [
    {
     "name": "stdout",
     "output_type": "stream",
     "text": [
      "The samples were obtained from 24 different samples.\n",
      "We had a total of 42 measurements.\n",
      "\n",
      "Proportion Wowen = 30.952380952380953\n",
      "\n",
      "Mean Age = 56.095238095238095\n",
      "\n",
      "Tumor types:\n",
      "{'meningioma': 0, 'GBM': 19, 'astro': 6, 'oligo': 16, 'carcinoma': 1, 'papilloma': 0}\n",
      "\n",
      "\n",
      "Tumor types proportion:\n",
      "{'meningioma': 0.0, 'GBM': 45.23809523809524, 'astro': 14.285714285714285, 'oligo': 38.095238095238095, 'carcinoma': 2.380952380952381, 'papilloma': 0.0}\n",
      "\n",
      "\n"
     ]
    }
   ],
   "source": [
    "df = GetSamplesInfo.return_samples_info()"
   ]
  },
  {
   "cell_type": "code",
   "execution_count": null,
   "id": "2c84477f",
   "metadata": {},
   "outputs": [],
   "source": []
  }
 ],
 "metadata": {
  "kernelspec": {
   "display_name": "Python 3 (ipykernel)",
   "language": "python",
   "name": "python3"
  },
  "language_info": {
   "codemirror_mode": {
    "name": "ipython",
    "version": 3
   },
   "file_extension": ".py",
   "mimetype": "text/x-python",
   "name": "python",
   "nbconvert_exporter": "python",
   "pygments_lexer": "ipython3",
   "version": "3.8.17"
  }
 },
 "nbformat": 4,
 "nbformat_minor": 5
}
