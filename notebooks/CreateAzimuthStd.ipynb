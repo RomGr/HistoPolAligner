{
 "cells": [
  {
   "cell_type": "code",
   "execution_count": 1,
   "id": "c18df293",
   "metadata": {
    "scrolled": true
   },
   "outputs": [],
   "source": [
    "%load_ext autoreload\n",
    "%autoreload 2\n",
    "import os\n",
    "from histopolalign.AzimuthStdViz import AzimuthStdViz"
   ]
  },
  {
   "cell_type": "markdown",
   "id": "fde5ed51",
   "metadata": {},
   "source": [
    "## 1. Do it for neoplastic tissue"
   ]
  },
  {
   "cell_type": "code",
   "execution_count": 3,
   "id": "2797c8ab",
   "metadata": {
    "scrolled": false
   },
   "outputs": [
    {
     "name": "stderr",
     "output_type": "stream",
     "text": [
      "100%|██████████████████████████████████████████████████████████████████████████████| 45/45 [06:06<00:00,  8.13s/it]\n"
     ]
    }
   ],
   "source": [
    "path_measurements = os.path.join(os.getcwd().split('notebooks')[0], 'data', 'TumorMeasurements')\n",
    "measurements = []\n",
    "for folder in os.listdir(path_measurements):\n",
    "    for measurement in os.listdir(os.path.join(path_measurements, folder)):\n",
    "        measurements.append(os.path.join(path_measurements, folder, measurement))\n",
    "\n",
    "azimuth_stds = AzimuthStdViz.get_and_plots_stds(measurements, sq_size = 4)"
   ]
  },
  {
   "cell_type": "markdown",
   "id": "f133d76e",
   "metadata": {},
   "source": [
    "## 2. and for tumor-free tissue"
   ]
  },
  {
   "cell_type": "code",
   "execution_count": 10,
   "id": "13cc50b5",
   "metadata": {},
   "outputs": [
    {
     "name": "stderr",
     "output_type": "stream",
     "text": [
      "100%|████████████████████████████████████████████████████████████████████████████████████| 8/8 [01:51<00:00, 13.95s/it]\n"
     ]
    }
   ],
   "source": [
    "path_measurements = os.path.join(os.getcwd().split('notebooks')[0], 'data', 'HealthyHuman')\n",
    "measurements = []\n",
    "for folder in os.listdir(path_measurements):\n",
    "    measurements.append(os.path.join(path_measurements, folder))\n",
    "\n",
    "azimuth_stds = AzimuthStdViz.get_and_plots_stds(measurements, sq_size = 4)"
   ]
  },
  {
   "cell_type": "code",
   "execution_count": null,
   "id": "19798c54",
   "metadata": {},
   "outputs": [],
   "source": []
  },
  {
   "cell_type": "code",
   "execution_count": null,
   "id": "5177f798",
   "metadata": {},
   "outputs": [],
   "source": []
  }
 ],
 "metadata": {
  "kernelspec": {
   "display_name": "Python 3 (ipykernel)",
   "language": "python",
   "name": "python3"
  },
  "language_info": {
   "codemirror_mode": {
    "name": "ipython",
    "version": 3
   },
   "file_extension": ".py",
   "mimetype": "text/x-python",
   "name": "python",
   "nbconvert_exporter": "python",
   "pygments_lexer": "ipython3",
   "version": "3.8.17"
  }
 },
 "nbformat": 4,
 "nbformat_minor": 5
}
