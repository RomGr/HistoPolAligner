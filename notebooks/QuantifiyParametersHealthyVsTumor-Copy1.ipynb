{
 "cells": [
  {
   "cell_type": "code",
   "execution_count": 1,
   "id": "24b8247b",
   "metadata": {},
   "outputs": [],
   "source": [
    "%load_ext autoreload\n",
    "%autoreload 2\n",
    "import os\n",
    "from tqdm import tqdm\n",
    "\n",
    "from histopolalign.CompareHealthyTumor import compare_healthy_tumor\n",
    "from histopolalign.VerificationAlignment import mask_generation"
   ]
  },
  {
   "cell_type": "code",
   "execution_count": 2,
   "id": "4ae499e3",
   "metadata": {},
   "outputs": [],
   "source": [
    "type_ = ''"
   ]
  },
  {
   "cell_type": "markdown",
   "id": "5aed4367",
   "metadata": {},
   "source": [
    "## 1. Healthy polarimetric parameters"
   ]
  },
  {
   "cell_type": "markdown",
   "id": "90d61cbb",
   "metadata": {},
   "source": [
    "#### 1.1. Process the Mueller matrices, if needed"
   ]
  },
  {
   "cell_type": "code",
   "execution_count": 3,
   "id": "dc296541",
   "metadata": {
    "scrolled": true
   },
   "outputs": [],
   "source": [
    "healthy_polarimetry_path = os.path.join(os.getcwd().split('notebooks')[0], 'data', 'HealthyHuman')\n",
    "directories = [healthy_polarimetry_path]\n",
    "calib_directory = os.path.join(os.getcwd().split('notebooks')[0], 'calib')\n",
    "\n",
    "# from processingmm import batch_processing\n",
    "# batch_processing.batch_process(directories, calib_directory)"
   ]
  },
  {
   "cell_type": "markdown",
   "id": "4ea2c4d2",
   "metadata": {},
   "source": [
    "#### 1.2. Get the grey / white matter masks"
   ]
  },
  {
   "cell_type": "code",
   "execution_count": 4,
   "id": "7a1a4f22",
   "metadata": {},
   "outputs": [
    {
     "name": "stderr",
     "output_type": "stream",
     "text": [
      "100%|████████████████████████████████████████████████████████████████████████████████████| 8/8 [00:12<00:00,  1.60s/it]\n"
     ]
    }
   ],
   "source": [
    "folders_masks = []\n",
    "for folder in os.listdir(healthy_polarimetry_path):\n",
    "    if type_ in folder:\n",
    "        folders_masks.append(os.path.join(healthy_polarimetry_path, folder))\n",
    "\n",
    "_ = mask_generation.create_the_masks(folders_of_interest = folders_masks)"
   ]
  },
  {
   "cell_type": "markdown",
   "id": "5f8188bc",
   "metadata": {},
   "source": [
    "#### 1.3. Get the values for healthy tissue"
   ]
  },
  {
   "cell_type": "code",
   "execution_count": 5,
   "id": "6dbc31ad",
   "metadata": {},
   "outputs": [
    {
     "name": "stderr",
     "output_type": "stream",
     "text": [
      "100%|████████████████████████████████████████████████████████████████████████████████████| 8/8 [01:16<00:00,  9.59s/it]\n"
     ]
    }
   ],
   "source": [
    "azimuth_sq_size = 4\n",
    "values_healthy = compare_healthy_tumor.get_parameters_healthy(healthy_polarimetry_path, azimuth_sq_size = azimuth_sq_size, type_ = type_)"
   ]
  },
  {
   "cell_type": "markdown",
   "id": "11ab4ef6",
   "metadata": {},
   "source": [
    "## 2. Neoplastic polarimetric parameters"
   ]
  },
  {
   "cell_type": "markdown",
   "id": "92907706",
   "metadata": {},
   "source": [
    "#### 2.1. Get the values for neoplastic tissues"
   ]
  },
  {
   "cell_type": "code",
   "execution_count": 6,
   "id": "6ba492f1",
   "metadata": {},
   "outputs": [
    {
     "name": "stderr",
     "output_type": "stream",
     "text": [
      "100%|██████████████████████████████████████████████████████████████████████████████████| 44/44 [06:43<00:00,  9.17s/it]\n"
     ]
    }
   ],
   "source": [
    "neoplastic_polarimetry_path = os.path.join(os.getcwd().split('notebooks')[0], 'data', 'TumorMeasurements')\n",
    "path_folders = compare_healthy_tumor.get_all_folders(neoplastic_polarimetry_path, type_ = type_)\n",
    "azimuth_sq_size = 4\n",
    "values_folder = compare_healthy_tumor.get_the_values(path_folders, azimuth_sq_size = azimuth_sq_size)"
   ]
  },
  {
   "cell_type": "markdown",
   "id": "9f84dc2a",
   "metadata": {},
   "source": [
    "#### 2.2. And plot the histograms for the paper"
   ]
  },
  {
   "cell_type": "code",
   "execution_count": 7,
   "id": "a8a7ee04",
   "metadata": {},
   "outputs": [
    {
     "name": "stderr",
     "output_type": "stream",
     "text": [
      "C:\\Users\\romai\\.conda\\envs\\pyimagej\\lib\\site-packages\\numpy\\lib\\histograms.py:906: RuntimeWarning: invalid value encountered in divide\n",
      "  return n/db/n.sum(), bin_edges\n",
      "C:\\Users\\romai\\Documents\\PathologyPaper\\src\\histopolalign\\CompareHealthyTumor\\compare_healthy_tumor.py:291: RuntimeWarning: Mean of empty slice\n",
      "  mean = np.nanmean(values[idx_param])\n",
      "C:\\Users\\romai\\.conda\\envs\\pyimagej\\lib\\site-packages\\numpy\\lib\\nanfunctions.py:1878: RuntimeWarning: Degrees of freedom <= 0 for slice.\n",
      "  var = nanvar(a, axis=axis, dtype=dtype, out=out, ddof=ddof,\n",
      "C:\\Users\\romai\\.conda\\envs\\pyimagej\\lib\\site-packages\\numpy\\lib\\nanfunctions.py:1215: RuntimeWarning: Mean of empty slice\n",
      "  return np.nanmean(a, axis, out=out, keepdims=keepdims)\n",
      "C:\\Users\\romai\\.conda\\envs\\pyimagej\\lib\\site-packages\\numpy\\lib\\histograms.py:906: RuntimeWarning: invalid value encountered in divide\n",
      "  return n/db/n.sum(), bin_edges\n",
      "C:\\Users\\romai\\Documents\\PathologyPaper\\src\\histopolalign\\CompareHealthyTumor\\compare_healthy_tumor.py:291: RuntimeWarning: Mean of empty slice\n",
      "  mean = np.nanmean(values[idx_param])\n",
      "C:\\Users\\romai\\.conda\\envs\\pyimagej\\lib\\site-packages\\numpy\\lib\\nanfunctions.py:1878: RuntimeWarning: Degrees of freedom <= 0 for slice.\n",
      "  var = nanvar(a, axis=axis, dtype=dtype, out=out, ddof=ddof,\n",
      "C:\\Users\\romai\\.conda\\envs\\pyimagej\\lib\\site-packages\\numpy\\lib\\nanfunctions.py:1215: RuntimeWarning: Mean of empty slice\n",
      "  return np.nanmean(a, axis, out=out, keepdims=keepdims)\n"
     ]
    }
   ],
   "source": [
    "parameters = ['totP', 'linR', 'azimuth']\n",
    "compare_healthy_tumor.plot_histograms_paper(values_healthy, values_folder, parameters, (153, 153, 0),\n",
    "                                os.path.join(os.getcwd().split('notebooks')[0], 'results', 'WM_split' + type_ + '.pdf'), WM = True)\n",
    "compare_healthy_tumor.plot_histograms_paper(values_healthy, values_folder, parameters, (153, 77, 0),\n",
    "                                os.path.join(os.getcwd().split('notebooks')[0], 'results', 'GM_split' + type_ + '.pdf'), WM = False)"
   ]
  },
  {
   "cell_type": "markdown",
   "id": "ccf6713d",
   "metadata": {},
   "source": [
    "#### 2.3. Combine the values across the different tumor cell contents"
   ]
  },
  {
   "cell_type": "code",
   "execution_count": 8,
   "id": "410889a3",
   "metadata": {},
   "outputs": [],
   "source": [
    "values_folder_combined = compare_healthy_tumor.combine_the_values(values_folder)\n",
    "\n",
    "compare_healthy_tumor.plot_histograms_paper_combined(values_healthy, values_folder_combined, parameters, False,\n",
    "                               os.path.join(os.getcwd().split('notebooks')[0], 'results', 'GM_combined.pdf'))\n",
    "compare_healthy_tumor.plot_histograms_paper_combined(values_healthy, values_folder_combined, parameters, True,\n",
    "                               os.path.join(os.getcwd().split('notebooks')[0], 'results', 'WM_combined.pdf'))"
   ]
  },
  {
   "cell_type": "code",
   "execution_count": 9,
   "id": "8a2e2c93",
   "metadata": {},
   "outputs": [],
   "source": [
    "import matplotlib.pyplot as plt\n",
    "import numpy as np\n",
    "import pandas as pd\n",
    "from scipy.optimize import curve_fit\n",
    "from scipy.stats import exponnorm\n",
    "import scipy\n",
    "\n",
    "def gauss(x, mu, sigma, A):\n",
    "    return A*np.exp(-(x-mu)**2/2/sigma**2)\n",
    "\n",
    "def bimodal(x, mu1, sigma1, A1, mu2, sigma2, A2):\n",
    "    return gauss(x,mu1, sigma1, A1)+gauss(x,mu2, sigma2, A2)\n",
    "\n",
    "    \n",
    "def fit_data_healthy(values, color, ax, expected = [16, 4, 1, 32, 10, 0.3]):\n",
    "\n",
    "    #data generation\n",
    "    data = np.array(values[255])\n",
    "    y, x = np.histogram(data, bins=np.linspace(0, 80, 81))\n",
    "    x=(x[1:]+x[:-1])/2\n",
    "    y = y/np.max(y)\n",
    "    ax.bar(x, y,width=1, color=color, alpha = 0.3)\n",
    "    params, cov = curve_fit(bimodal, x, y, expected)\n",
    "    sigma=np.sqrt(np.diag(cov))\n",
    "    x_fit = np.linspace(x.min(), x.max(), 500)\n",
    "    ax.plot(x_fit, bimodal(x_fit, *params), color=color, lw=2.5, ls=\"-\", label='Model')\n",
    "    ax.plot(x_fit, gauss(x_fit, *params[:3]), color=color, lw=2.5, ls=\":\", label='Gaussian 1')\n",
    "    ax.plot(x_fit, gauss(x_fit, *params[3:]), color=color, lw=2.5, ls=\"--\", label='Gaussian 2')\n",
    "    ax.legend()\n",
    "    ax.set_xlim([0, 80])\n",
    "    ax.set_ylim([0, 1.5])\n",
    "\n",
    "    ax.legend()\n",
    "    \n",
    "    ax.xaxis.set_major_locator(plt.MaxNLocator(4))\n",
    "    ax.yaxis.set_major_locator(plt.MaxNLocator(3))\n",
    "\n",
    "    # change the font size of the ticks\n",
    "    ax.tick_params(axis='both', which='major', labelsize=18)\n",
    "\n",
    "    for tick in ax.xaxis.get_major_ticks():\n",
    "        tick.label1.set_fontsize(12)\n",
    "        tick.label1.set_fontweight('bold')\n",
    "    for tick in ax.yaxis.get_major_ticks():\n",
    "        tick.label1.set_fontsize(12)\n",
    "        tick.label1.set_fontweight('bold')\n",
    "            \n",
    "    return pd.DataFrame(data={'params': params, 'sigma': sigma}, index=bimodal.__code__.co_varnames[1:])\n",
    "\n",
    "\n",
    "def fit_data(values, color, ax, expected = (16, 4, 1, 31, 15, 1)):\n",
    "    data = np.array(values)\n",
    "    \n",
    "    #data generation\n",
    "    y, x = np.histogram(values, bins=np.linspace(0, 80, 81))\n",
    "    x=(x[1:]+x[:-1])/2\n",
    "    y = y/np.max(y)\n",
    "    ax.bar(x, y,width=1, color=color, alpha = 0.3)\n",
    "    \n",
    "    params, cov = curve_fit(bimodal, x, y, expected)\n",
    "    sigma=np.sqrt(np.diag(cov))\n",
    "    x_fit = np.linspace(x.min(), x.max(), 500)\n",
    "    #plot combined...\n",
    "    #...and individual Gauss curves\n",
    "    ax.plot(x_fit, bimodal(x_fit, *params), color=color, lw=2.5, ls=\"-\", label='Model')\n",
    "    ax.plot(x_fit, gauss(x_fit, *params[:3]), color=color, lw=2.5, ls=\":\", label='Gaussian 1')\n",
    "    ax.plot(x_fit, gauss(x_fit, *params[3:]), color=color, lw=2.5, ls=\"--\", label='Gaussian 2')\n",
    "    ax.set_xlim([0, 80])\n",
    "    ax.set_ylim([0, 1.20])\n",
    "    \n",
    "    ax.xaxis.set_major_locator(plt.MaxNLocator(4))\n",
    "    ax.yaxis.set_major_locator(plt.MaxNLocator(3))\n",
    "\n",
    "    # change the font size of the ticks\n",
    "    ax.tick_params(axis='both', which='major', labelsize=18)\n",
    "    ax.set_yticks([0, 0.25, 0.50, 0.75, 1])\n",
    "    \n",
    "    for tick in ax.xaxis.get_major_ticks():\n",
    "        tick.label1.set_fontsize(12)\n",
    "        tick.label1.set_fontweight('bold')\n",
    "    for tick in ax.yaxis.get_major_ticks():\n",
    "        tick.label1.set_fontsize(12)\n",
    "        tick.label1.set_fontweight('bold')\n",
    "            \n",
    "    return pd.DataFrame(data={'params': params, 'sigma': sigma}, index=bimodal.__code__.co_varnames[1:])\n",
    "\n",
    "values = values_folder['azimuth'][(153, 153, 0)]\n",
    "\n",
    "def fit_all_data(values, values_healthy):\n",
    "    fig, axs = plt.subplots(2, 2, layout='constrained', figsize=(10, 8))\n",
    "    parameters_TF = fit_data(values_healthy['azimuth'][255], color = 'green', ax = axs[0][0], expected = [16, 4, 1, 32, 10, 0.3])\n",
    "    parameters_LLI = fit_data(values[(0, 255, 255)], color = 'turquoise', ax = axs[0][1], expected = [10, 10, 1, 32, 10, 1])\n",
    "    # parameters_HLI = fit_data(values[(0, 0, 255)], color = 'blue', ax = axs[1][0])\n",
    "    parameters_TC = fit_data(values[(255, 0, 0)], color = 'red', ax = axs[1][1])\n",
    "    plt.tight_layout()\n",
    "    return parameters_TF, parameters_LLI, parameters_TC# parameters_HLI, parameters_TC\n"
   ]
  },
  {
   "cell_type": "code",
   "execution_count": 10,
   "id": "ab8be8b5",
   "metadata": {},
   "outputs": [
    {
     "name": "stderr",
     "output_type": "stream",
     "text": [
      "C:\\Users\\romai\\AppData\\Local\\Temp\\ipykernel_24956\\718302831.py:95: UserWarning: The figure layout has changed to tight\n",
      "  plt.tight_layout()\n"
     ]
    }
   ],
   "source": [
    "parameters = fit_all_data(values, values_healthy)\n",
    "plt.savefig(os.path.join(os.getcwd().split('notebooks')[0], 'results', 'gaussian_fits.pdf'))\n",
    "plt.close()"
   ]
  },
  {
   "cell_type": "code",
   "execution_count": 11,
   "id": "c37e56e6",
   "metadata": {},
   "outputs": [
    {
     "data": {
      "text/plain": [
       "(           params     sigma\n",
       " mu1      7.021029  0.168294\n",
       " sigma1   2.761822  0.267528\n",
       " A1       0.733902  0.056905\n",
       " mu2     19.756927  1.475371\n",
       " sigma2  13.462711  1.171206\n",
       " A2       0.459435  0.018675,\n",
       "            params     sigma\n",
       " mu1     10.299671  0.246534\n",
       " sigma1   4.597449  0.362087\n",
       " A1       0.420115  0.030807\n",
       " mu2     31.048691  0.372897\n",
       " sigma2  14.439597  0.344792\n",
       " A2       1.009861  0.010590,\n",
       "            params     sigma\n",
       " mu1     11.884100  0.560778\n",
       " sigma1  -3.788374  0.606499\n",
       " A1       0.053969  0.006979\n",
       " mu2     37.035978  0.062156\n",
       " sigma2  12.476747  0.069654\n",
       " A2       0.981041  0.003726)"
      ]
     },
     "execution_count": 11,
     "metadata": {},
     "output_type": "execute_result"
    }
   ],
   "source": [
    "parameters"
   ]
  },
  {
   "cell_type": "markdown",
   "id": "64e69a6f",
   "metadata": {},
   "source": [
    "## 3. Get the values for the methods of the paper"
   ]
  },
  {
   "cell_type": "code",
   "execution_count": 12,
   "id": "7534b1f9",
   "metadata": {},
   "outputs": [
    {
     "name": "stderr",
     "output_type": "stream",
     "text": [
      "100%|████████████████████████████████████████████████████████████████████████████████████| 1/1 [00:01<00:00,  1.02s/it]\n",
      "100%|████████████████████████████████████████████████████████████████████████████████████| 1/1 [00:10<00:00, 10.37s/it]\n"
     ]
    }
   ],
   "source": [
    "polarimetry_path_methods = os.path.join(os.getcwd().split('notebooks')[0], 'data', 'HealthyMethods')\n",
    "\n",
    "azimuth_sq_size = 4\n",
    "\n",
    "folders_masks = []\n",
    "for folder in os.listdir(polarimetry_path_methods):\n",
    "    folders_masks.append(os.path.join(polarimetry_path_methods, folder))\n",
    "\n",
    "_ = mask_generation.create_the_masks(folders_of_interest = folders_masks)\n",
    "    \n",
    "values_healthy_methods = compare_healthy_tumor.get_parameters_healthy(polarimetry_path_methods, \n",
    "                                                                      azimuth_sq_size = azimuth_sq_size)"
   ]
  },
  {
   "cell_type": "code",
   "execution_count": 13,
   "id": "fb738232",
   "metadata": {},
   "outputs": [
    {
     "name": "stderr",
     "output_type": "stream",
     "text": [
      "100%|████████████████████████████████████████████████████████████████████████████████████| 1/1 [00:08<00:00,  8.97s/it]\n"
     ]
    }
   ],
   "source": [
    "neoplastic_polarimetry_path = os.path.join(os.getcwd().split('notebooks')[0], 'data', 'TumorMeasurementsMethods')\n",
    "path_folders = compare_healthy_tumor.get_all_folders(neoplastic_polarimetry_path)\n",
    "values_folder = compare_healthy_tumor.get_the_values(path_folders, azimuth_sq_size = azimuth_sq_size)"
   ]
  },
  {
   "cell_type": "code",
   "execution_count": 14,
   "id": "74fbca6f",
   "metadata": {},
   "outputs": [],
   "source": [
    "parameters = ['totP', 'linR', 'azimuth']\n",
    "\n",
    "compare_healthy_tumor.plot_histograms_methods(values_healthy_methods, values_folder, parameters, True,\n",
    "                      os.path.join(os.getcwd().split('notebooks')[0], 'results', 'methods.pdf'))"
   ]
  },
  {
   "cell_type": "code",
   "execution_count": null,
   "id": "37b66409",
   "metadata": {},
   "outputs": [],
   "source": []
  },
  {
   "cell_type": "code",
   "execution_count": null,
   "id": "48ad1b9a",
   "metadata": {},
   "outputs": [],
   "source": []
  }
 ],
 "metadata": {
  "kernelspec": {
   "display_name": "Python 3 (ipykernel)",
   "language": "python",
   "name": "python3"
  },
  "language_info": {
   "codemirror_mode": {
    "name": "ipython",
    "version": 3
   },
   "file_extension": ".py",
   "mimetype": "text/x-python",
   "name": "python",
   "nbconvert_exporter": "python",
   "pygments_lexer": "ipython3",
   "version": "3.8.17"
  }
 },
 "nbformat": 4,
 "nbformat_minor": 5
}
