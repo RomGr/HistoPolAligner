{
 "cells": [
  {
   "cell_type": "code",
   "execution_count": 5,
   "id": "faf43f22",
   "metadata": {},
   "outputs": [
    {
     "name": "stdout",
     "output_type": "stream",
     "text": [
      "The autoreload extension is already loaded. To reload it, use:\n",
      "  %reload_ext autoreload\n"
     ]
    }
   ],
   "source": [
    "%load_ext autoreload\n",
    "%autoreload 2\n",
    "from histopolalign.VerificationAlignment import verify_alignment_procedure"
   ]
  },
  {
   "cell_type": "code",
   "execution_count": 6,
   "id": "b775efda",
   "metadata": {},
   "outputs": [
    {
     "name": "stderr",
     "output_type": "stream",
     "text": [
      "100%|████████████████████████████████████████████████████████████████████████████████████| 7/7 [00:04<00:00,  1.42it/s]\n",
      "100%|████████████████████████████████████████████████████████████████████████████████████| 7/7 [06:18<00:00, 54.13s/it]\n"
     ]
    }
   ],
   "source": [
    "dice_mean, dice_std = verify_alignment_procedure.verify_alignment_main()"
   ]
  },
  {
   "cell_type": "code",
   "execution_count": 7,
   "id": "3fe7f29b",
   "metadata": {},
   "outputs": [
    {
     "data": {
      "text/plain": [
       "{'raw': 0.31250670669705993,\n",
       " 'pre-align': 0.6526859060475798,\n",
       " 'contour': 0.6595758994509413,\n",
       " 'MLS': 0.7078559007231784,\n",
       " 'final': 0.667618498990179}"
      ]
     },
     "execution_count": 7,
     "metadata": {},
     "output_type": "execute_result"
    }
   ],
   "source": [
    "dice_mean"
   ]
  },
  {
   "cell_type": "code",
   "execution_count": 8,
   "id": "4ed675c5",
   "metadata": {},
   "outputs": [
    {
     "data": {
      "text/plain": [
       "{'raw': 0.059389332978373816,\n",
       " 'pre-align': 0.08291988104767581,\n",
       " 'contour': 0.08280855117006747,\n",
       " 'MLS': 0.065652882657107,\n",
       " 'final': 0.04578784853336462}"
      ]
     },
     "execution_count": 8,
     "metadata": {},
     "output_type": "execute_result"
    }
   ],
   "source": [
    "dice_std"
   ]
  },
  {
   "cell_type": "code",
   "execution_count": null,
   "id": "4fa28800",
   "metadata": {},
   "outputs": [],
   "source": []
  }
 ],
 "metadata": {
  "kernelspec": {
   "display_name": "Python 3 (ipykernel)",
   "language": "python",
   "name": "python3"
  },
  "language_info": {
   "codemirror_mode": {
    "name": "ipython",
    "version": 3
   },
   "file_extension": ".py",
   "mimetype": "text/x-python",
   "name": "python",
   "nbconvert_exporter": "python",
   "pygments_lexer": "ipython3",
   "version": "3.8.17"
  }
 },
 "nbformat": 4,
 "nbformat_minor": 5
}
