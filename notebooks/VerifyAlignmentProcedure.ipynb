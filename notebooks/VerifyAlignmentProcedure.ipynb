{
 "cells": [
  {
   "cell_type": "code",
   "execution_count": 13,
   "id": "faf43f22",
   "metadata": {},
   "outputs": [
    {
     "name": "stdout",
     "output_type": "stream",
     "text": [
      "The autoreload extension is already loaded. To reload it, use:\n",
      "  %reload_ext autoreload\n"
     ]
    }
   ],
   "source": [
    "%load_ext autoreload\n",
    "%autoreload 2\n",
    "from histopolalign.VerificationAlignment import verify_alignment_procedure"
   ]
  },
  {
   "cell_type": "code",
   "execution_count": 14,
   "id": "b775efda",
   "metadata": {},
   "outputs": [
    {
     "name": "stderr",
     "output_type": "stream",
     "text": [
      "100%|████████████████████████████████████████████████████████████████████████████████████| 7/7 [00:05<00:00,  1.33it/s]\n",
      "100%|████████████████████████████████████████████████████████████████████████████████████| 7/7 [04:15<00:00, 36.46s/it]\n"
     ]
    }
   ],
   "source": [
    "dice_mean, dice_std = verify_alignment_procedure.verify_alignment_main()"
   ]
  },
  {
   "cell_type": "code",
   "execution_count": 15,
   "id": "3fe7f29b",
   "metadata": {},
   "outputs": [
    {
     "data": {
      "text/plain": [
       "{'raw': 0.310145718036233,\n",
       " 'pre-align': 0.6459851790399836,\n",
       " 'contour': 0.6488496407015379,\n",
       " 'MLS': 0.7257510461500286}"
      ]
     },
     "execution_count": 15,
     "metadata": {},
     "output_type": "execute_result"
    }
   ],
   "source": [
    "dice_mean"
   ]
  },
  {
   "cell_type": "code",
   "execution_count": 16,
   "id": "4ed675c5",
   "metadata": {},
   "outputs": [
    {
     "data": {
      "text/plain": [
       "{'raw': 0.06003559247210357,\n",
       " 'pre-align': 0.08474836830257905,\n",
       " 'contour': 0.07628573126125644,\n",
       " 'MLS': 0.049308668625367806}"
      ]
     },
     "execution_count": 16,
     "metadata": {},
     "output_type": "execute_result"
    }
   ],
   "source": [
    "dice_std"
   ]
  },
  {
   "cell_type": "code",
   "execution_count": null,
   "id": "4fa28800",
   "metadata": {},
   "outputs": [],
   "source": []
  }
 ],
 "metadata": {
  "kernelspec": {
   "display_name": "Python 3 (ipykernel)",
   "language": "python",
   "name": "python3"
  },
  "language_info": {
   "codemirror_mode": {
    "name": "ipython",
    "version": 3
   },
   "file_extension": ".py",
   "mimetype": "text/x-python",
   "name": "python",
   "nbconvert_exporter": "python",
   "pygments_lexer": "ipython3",
   "version": "3.8.17"
  }
 },
 "nbformat": 4,
 "nbformat_minor": 5
}
