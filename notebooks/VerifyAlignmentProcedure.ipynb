{
 "cells": [
  {
   "cell_type": "code",
   "execution_count": 50,
   "id": "faf43f22",
   "metadata": {},
   "outputs": [
    {
     "name": "stdout",
     "output_type": "stream",
     "text": [
      "The autoreload extension is already loaded. To reload it, use:\n",
      "  %reload_ext autoreload\n"
     ]
    }
   ],
   "source": [
    "%load_ext autoreload\n",
    "%autoreload 2\n",
    "from histopolalign.VerificationAlignment import verify_alignment_procedure"
   ]
  },
  {
   "cell_type": "code",
   "execution_count": 51,
   "id": "0359a093",
   "metadata": {},
   "outputs": [
    {
     "name": "stderr",
     "output_type": "stream",
     "text": [
      "100%|████████████████████████████████████████████████████████████████████████████████████| 7/7 [00:04<00:00,  1.55it/s]\n",
      "  0%|                                                                                            | 0/7 [00:00<?, ?it/s]\n"
     ]
    },
    {
     "ename": "FileNotFoundError",
     "evalue": "[Errno 2] No such file or directory: 'C:\\\\Users\\\\romai\\\\Documents\\\\PathologyPaper\\\\data\\\\TumorMeasurements\\\\59\\\\2022-11-02_T_HORAO-59-AF_FR_S2_1\\\\histology\\\\labels_GM_WM_original.png'",
     "output_type": "error",
     "traceback": [
      "\u001b[1;31m---------------------------------------------------------------------------\u001b[0m",
      "\u001b[1;31mFileNotFoundError\u001b[0m                         Traceback (most recent call last)",
      "Cell \u001b[1;32mIn[51], line 1\u001b[0m\n\u001b[1;32m----> 1\u001b[0m \u001b[43mverify_alignment_procedure\u001b[49m\u001b[38;5;241;43m.\u001b[39;49m\u001b[43mverify_alignment_main\u001b[49m\u001b[43m(\u001b[49m\u001b[43m)\u001b[49m\n",
      "File \u001b[1;32m~\\Documents\\PathologyPaper\\src\\histopolalign\\VerificationAlignment\\verify_alignment_procedure.py:10\u001b[0m, in \u001b[0;36mverify_alignment_main\u001b[1;34m()\u001b[0m\n\u001b[0;32m      8\u001b[0m neoplastic_polarimetry_path \u001b[38;5;241m=\u001b[39m os\u001b[38;5;241m.\u001b[39mpath\u001b[38;5;241m.\u001b[39mjoin(os\u001b[38;5;241m.\u001b[39mgetcwd()\u001b[38;5;241m.\u001b[39msplit(\u001b[38;5;124m'\u001b[39m\u001b[38;5;124mnotebooks\u001b[39m\u001b[38;5;124m'\u001b[39m)[\u001b[38;5;241m0\u001b[39m], \u001b[38;5;124m'\u001b[39m\u001b[38;5;124mdata\u001b[39m\u001b[38;5;124m'\u001b[39m, \u001b[38;5;124m'\u001b[39m\u001b[38;5;124mTumorMeasurements\u001b[39m\u001b[38;5;124m'\u001b[39m)\n\u001b[0;32m      9\u001b[0m folder_of_interests \u001b[38;5;241m=\u001b[39m mask_generation\u001b[38;5;241m.\u001b[39mcreate_the_masks(neoplastic_polarimetry_path)\n\u001b[1;32m---> 10\u001b[0m \u001b[43mverify_alignment\u001b[49m\u001b[38;5;241;43m.\u001b[39;49m\u001b[43mcompute_similarity\u001b[49m\u001b[43m(\u001b[49m\u001b[43mfolder_of_interests\u001b[49m\u001b[43m)\u001b[49m\n",
      "File \u001b[1;32m~\\Documents\\PathologyPaper\\src\\histopolalign\\VerificationAlignment\\verify_alignment.py:91\u001b[0m, in \u001b[0;36mcompute_similarity\u001b[1;34m(data_folder)\u001b[0m\n\u001b[0;32m     88\u001b[0m img_ROI \u001b[38;5;241m=\u001b[39m np\u001b[38;5;241m.\u001b[39marray(Image\u001b[38;5;241m.\u001b[39mopen(os\u001b[38;5;241m.\u001b[39mpath\u001b[38;5;241m.\u001b[39mjoin(folder, \u001b[38;5;124m'\u001b[39m\u001b[38;5;124mannotation\u001b[39m\u001b[38;5;124m'\u001b[39m, \u001b[38;5;124m'\u001b[39m\u001b[38;5;124mROI.tif\u001b[39m\u001b[38;5;124m'\u001b[39m)))\n\u001b[0;32m     90\u001b[0m image_labels_raw_path \u001b[38;5;241m=\u001b[39m os\u001b[38;5;241m.\u001b[39mpath\u001b[38;5;241m.\u001b[39mjoin(folder, \u001b[38;5;124m'\u001b[39m\u001b[38;5;124mhistology\u001b[39m\u001b[38;5;124m'\u001b[39m, \u001b[38;5;124m'\u001b[39m\u001b[38;5;124mlabels_GM_WM_original.png\u001b[39m\u001b[38;5;124m'\u001b[39m)\n\u001b[1;32m---> 91\u001b[0m image_labels_raw \u001b[38;5;241m=\u001b[39m np\u001b[38;5;241m.\u001b[39marray(\u001b[43mImage\u001b[49m\u001b[38;5;241;43m.\u001b[39;49m\u001b[43mopen\u001b[49m\u001b[43m(\u001b[49m\u001b[43mimage_labels_raw_path\u001b[49m\u001b[43m)\u001b[49m)\n\u001b[0;32m     93\u001b[0m image_labels_init_path \u001b[38;5;241m=\u001b[39m os\u001b[38;5;241m.\u001b[39mpath\u001b[38;5;241m.\u001b[39mjoin(folder, \u001b[38;5;124m'\u001b[39m\u001b[38;5;124mhistology\u001b[39m\u001b[38;5;124m'\u001b[39m, \u001b[38;5;124m'\u001b[39m\u001b[38;5;124mlabels_GM_WM.png\u001b[39m\u001b[38;5;124m'\u001b[39m)\n\u001b[0;32m     94\u001b[0m image_labels_inti \u001b[38;5;241m=\u001b[39m np\u001b[38;5;241m.\u001b[39marray(Image\u001b[38;5;241m.\u001b[39mopen(image_labels_init_path))\n",
      "File \u001b[1;32m~\\.conda\\envs\\pyimagej\\lib\\site-packages\\PIL\\Image.py:3236\u001b[0m, in \u001b[0;36mopen\u001b[1;34m(fp, mode, formats)\u001b[0m\n\u001b[0;32m   3233\u001b[0m     filename \u001b[38;5;241m=\u001b[39m fp\n\u001b[0;32m   3235\u001b[0m \u001b[38;5;28;01mif\u001b[39;00m filename:\n\u001b[1;32m-> 3236\u001b[0m     fp \u001b[38;5;241m=\u001b[39m \u001b[43mbuiltins\u001b[49m\u001b[38;5;241;43m.\u001b[39;49m\u001b[43mopen\u001b[49m\u001b[43m(\u001b[49m\u001b[43mfilename\u001b[49m\u001b[43m,\u001b[49m\u001b[43m \u001b[49m\u001b[38;5;124;43m\"\u001b[39;49m\u001b[38;5;124;43mrb\u001b[39;49m\u001b[38;5;124;43m\"\u001b[39;49m\u001b[43m)\u001b[49m\n\u001b[0;32m   3237\u001b[0m     exclusive_fp \u001b[38;5;241m=\u001b[39m \u001b[38;5;28;01mTrue\u001b[39;00m\n\u001b[0;32m   3239\u001b[0m \u001b[38;5;28;01mtry\u001b[39;00m:\n",
      "\u001b[1;31mFileNotFoundError\u001b[0m: [Errno 2] No such file or directory: 'C:\\\\Users\\\\romai\\\\Documents\\\\PathologyPaper\\\\data\\\\TumorMeasurements\\\\59\\\\2022-11-02_T_HORAO-59-AF_FR_S2_1\\\\histology\\\\labels_GM_WM_original.png'"
     ]
    }
   ],
   "source": [
    "verify_alignment_procedure.verify_alignment_main()"
   ]
  },
  {
   "cell_type": "code",
   "execution_count": null,
   "id": "796e9eb9",
   "metadata": {},
   "outputs": [],
   "source": []
  },
  {
   "cell_type": "code",
   "execution_count": null,
   "id": "425efff5",
   "metadata": {},
   "outputs": [],
   "source": []
  },
  {
   "cell_type": "code",
   "execution_count": 4,
   "id": "75c9d87e",
   "metadata": {},
   "outputs": [
    {
     "data": {
      "application/vnd.jupyter.widget-view+json": {
       "model_id": "e39300ae58c74dc19a103b5de33339c6",
       "version_major": 2,
       "version_minor": 0
      },
      "text/plain": [
       "  0%|          | 0/7 [00:00<?, ?it/s]"
      ]
     },
     "metadata": {},
     "output_type": "display_data"
    }
   ],
   "source": [
    "from tqdm.notebook import tqdm\n",
    "dice_scores = {}\n",
    "\n",
    "size_neighbors = 4\n",
    "\n",
    "for folder in tqdm(os.listdir(data_folder_path)):\n",
    "    image_gt_path = os.path.join(data_folder_path, folder, 'annotation', 'merged.png')\n",
    "    image_gt = np.array(Image.open(image_gt_path))\n",
    "    \n",
    "    img_ROI = np.array(Image.open(os.path.join(data_folder_path, folder, 'annotation', 'ROI.tif')))\n",
    "    \n",
    "    image_labels_raw_path = os.path.join(data_folder_path, folder, 'histology', 'labels_GM_WM_original.png')\n",
    "    image_labels_raw = np.array(Image.open(image_labels_raw_path))\n",
    "    \n",
    "    image_labels_init_path = os.path.join(data_folder_path, folder, 'histology', 'labels_GM_WM.png')\n",
    "    image_labels_inti = np.array(Image.open(image_labels_init_path))\n",
    "    \n",
    "    image_labels_contour_path = os.path.join(data_folder_path, folder, 'histology', 'aligned' ,'histology_labels_GM_WM_contour.png')\n",
    "    image_labels_contour = np.array(Image.open(image_labels_contour_path))\n",
    "    \n",
    "    image_labels_aligned_path = os.path.join(data_folder_path, folder, 'histology', 'aligned' ,'labels_GM_WM_aligned_MLS.png')\n",
    "    image_labels_aligned = np.array(Image.open(image_labels_aligned_path))\n",
    "    image_labels_aligned = create_image_labels_final(image_labels_aligned, colors = [[153, 153, 0], [153, 77, 0]])\n",
    "    \n",
    "    image_labels_final_path = os.path.join(data_folder_path, folder, 'histology', 'labels_augmented_GM_WM_masked.png')\n",
    "    image_labels_final = np.array(Image.open(image_labels_final_path))\n",
    "    image_labels_final = create_image_labels_final(image_labels_final, colors = [[153, 153, 0], [153, 77, 0]])\n",
    "    \n",
    "    \n",
    "    dice_score = {'raw': 0, 'pre-align': 0, 'contour': 0, 'MLS': 0, 'final': 0}\n",
    "    \n",
    "    border_gt = get_border(image_gt, img_labels = False, size_neighbors = size_neighbors, colors = [128, 255])\n",
    "    border_gt_img = Image.fromarray(border_gt.astype(np.uint8) * 255)\n",
    "    border_gt_img.save(os.path.join(data_folder_path, folder, 'histology', 'border_ground_truth.png'))\n",
    "    \n",
    "    border_raw = get_border(image_labels_raw, img_labels = True, size_neighbors = size_neighbors, colors = [[153, 153, 0], [153, 77, 0]])\n",
    "    border_raw_img = Image.fromarray(border_raw.astype(np.uint8) * 255)\n",
    "    border_raw_img.save(os.path.join(data_folder_path, folder, 'histology', 'border_raw.png'))\n",
    "    \n",
    "    border_inti = get_border(image_labels_inti, img_labels = True, size_neighbors = size_neighbors, colors = [[153, 153, 0], [153, 77, 0]])\n",
    "    border_inti_img = Image.fromarray(border_inti.astype(np.uint8) * 255)\n",
    "    border_inti_img.save(os.path.join(data_folder_path, folder, 'histology', 'border_initialized.png'))\n",
    "    \n",
    "    border_contour = get_border(image_labels_contour, img_labels = True, size_neighbors = size_neighbors, colors = [[153, 153, 0], [153, 77, 0]])\n",
    "    border_contour_img = Image.fromarray(border_contour.astype(np.uint8) * 255)\n",
    "    border_contour_img.save(os.path.join(data_folder_path, folder, 'histology', 'border_contour.png'))\n",
    "    \n",
    "    border_aligned = get_border(image_labels_aligned, img_labels = True, size_neighbors = size_neighbors, colors = [[153, 153, 0], [153, 77, 0]])\n",
    "    border_aligned_img = Image.fromarray(border_aligned.astype(np.uint8) * 255)\n",
    "    border_aligned_img.save(os.path.join(data_folder_path, folder, 'histology', 'border_aligned.png'))\n",
    "    \n",
    "    border_final = get_border(image_labels_final, img_labels = True, size_neighbors = size_neighbors, colors = [[153, 153, 0], [153, 77, 0]])\n",
    "    border_final_img = Image.fromarray(border_final.astype(np.uint8) * 255)\n",
    "    border_final_img.save(os.path.join(data_folder_path, folder, 'histology', 'border_final.png'))\n",
    "    \n",
    "    img_reference = border_gt\n",
    "    img_aligned = [border_raw, border_inti, border_contour, border_aligned, border_final]\n",
    "\n",
    "    for img, (key,_) in zip(img_aligned, dice_score.items()):\n",
    "        dice_score[key] = dice(img_reference, img, k = 1)\n",
    "        overimposed = border_gt + img\n",
    "        overimposed = Image.fromarray(overimposed.astype(np.uint8) * 120)\n",
    "        overimposed.save(os.path.join(data_folder_path, folder, 'histology', 'overimposed_' + key + '.png'))\n",
    "        \n",
    "    dice_scores[folder] = dice_score"
   ]
  },
  {
   "cell_type": "code",
   "execution_count": 5,
   "id": "fecd3e5b",
   "metadata": {},
   "outputs": [],
   "source": [
    "from collections import defaultdict\n",
    "dice_avg = defaultdict(list)"
   ]
  },
  {
   "cell_type": "code",
   "execution_count": 6,
   "id": "3e928054",
   "metadata": {},
   "outputs": [],
   "source": [
    "for _, val in dice_scores.items():\n",
    "    for key, dic in val.items():\n",
    "        dice_avg[key].append(dic)"
   ]
  },
  {
   "cell_type": "code",
   "execution_count": 7,
   "id": "e34399cb",
   "metadata": {},
   "outputs": [],
   "source": [
    "dice_mean = {}\n",
    "dice_std = {}\n",
    "\n",
    "for key, val in dice_avg.items():\n",
    "    dice_mean[key] = np.mean(val)\n",
    "    dice_std[key] = np.std(val)"
   ]
  },
  {
   "cell_type": "code",
   "execution_count": 8,
   "id": "d2a47a8b",
   "metadata": {},
   "outputs": [
    {
     "data": {
      "text/plain": [
       "({'raw': 0.31395986822575567,\n",
       "  'pre-align': 0.6523120944968757,\n",
       "  'contour': 0.6634076470408482,\n",
       "  'MLS': 0.7536704554140634,\n",
       "  'final': 0.737978886993073},\n",
       " {'raw': 0.05916715716378708,\n",
       "  'pre-align': 0.08239922605587097,\n",
       "  'contour': 0.0863016444095431,\n",
       "  'MLS': 0.04045879759025006,\n",
       "  'final': 0.057175259486290264})"
      ]
     },
     "execution_count": 8,
     "metadata": {},
     "output_type": "execute_result"
    }
   ],
   "source": [
    "dice_mean, dice_std"
   ]
  },
  {
   "cell_type": "code",
   "execution_count": null,
   "id": "642f1bd7",
   "metadata": {},
   "outputs": [],
   "source": []
  },
  {
   "cell_type": "code",
   "execution_count": null,
   "id": "6e5ecc55",
   "metadata": {},
   "outputs": [],
   "source": []
  }
 ],
 "metadata": {
  "kernelspec": {
   "display_name": "Python 3 (ipykernel)",
   "language": "python",
   "name": "python3"
  },
  "language_info": {
   "codemirror_mode": {
    "name": "ipython",
    "version": 3
   },
   "file_extension": ".py",
   "mimetype": "text/x-python",
   "name": "python",
   "nbconvert_exporter": "python",
   "pygments_lexer": "ipython3",
   "version": "3.8.17"
  }
 },
 "nbformat": 4,
 "nbformat_minor": 5
}
