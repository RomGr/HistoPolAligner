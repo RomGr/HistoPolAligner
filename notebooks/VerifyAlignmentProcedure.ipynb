{
 "cells": [
  {
   "cell_type": "code",
   "execution_count": 1,
   "id": "faf43f22",
   "metadata": {},
   "outputs": [],
   "source": [
    "%load_ext autoreload\n",
    "%autoreload 2\n",
    "from histopolalign.VerificationAlignment import verify_alignment_procedure"
   ]
  },
  {
   "cell_type": "code",
   "execution_count": null,
   "id": "b775efda",
   "metadata": {},
   "outputs": [
    {
     "name": "stderr",
     "output_type": "stream",
     "text": [
      "100%|████████████████████████████████████████████████████████████████████████████████████| 7/7 [00:04<00:00,  1.49it/s]\n",
      " 14%|████████████                                                                        | 1/7 [00:41<04:10, 41.78s/it]"
     ]
    }
   ],
   "source": [
    "dice_mean, dice_std = verify_alignment_procedure.verify_alignment_main()"
   ]
  },
  {
   "cell_type": "code",
   "execution_count": null,
   "id": "3fe7f29b",
   "metadata": {},
   "outputs": [],
   "source": [
    "dice_mean"
   ]
  },
  {
   "cell_type": "code",
   "execution_count": null,
   "id": "4ed675c5",
   "metadata": {},
   "outputs": [],
   "source": [
    "dice_std"
   ]
  },
  {
   "cell_type": "code",
   "execution_count": null,
   "id": "4fa28800",
   "metadata": {},
   "outputs": [],
   "source": []
  }
 ],
 "metadata": {
  "kernelspec": {
   "display_name": "Python 3 (ipykernel)",
   "language": "python",
   "name": "python3"
  },
  "language_info": {
   "codemirror_mode": {
    "name": "ipython",
    "version": 3
   },
   "file_extension": ".py",
   "mimetype": "text/x-python",
   "name": "python",
   "nbconvert_exporter": "python",
   "pygments_lexer": "ipython3",
   "version": "3.8.17"
  }
 },
 "nbformat": 4,
 "nbformat_minor": 5
}
