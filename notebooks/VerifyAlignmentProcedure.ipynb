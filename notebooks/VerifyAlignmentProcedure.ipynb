{
 "cells": [
  {
   "cell_type": "code",
   "execution_count": 6,
   "id": "faf43f22",
   "metadata": {},
   "outputs": [
    {
     "name": "stdout",
     "output_type": "stream",
     "text": [
      "The autoreload extension is already loaded. To reload it, use:\n",
      "  %reload_ext autoreload\n"
     ]
    }
   ],
   "source": [
    "%load_ext autoreload\n",
    "%autoreload 2\n",
    "from histopolalign.VerificationAlignment import verify_alignment_procedure\n",
    "import numpy as np"
   ]
  },
  {
   "cell_type": "code",
   "execution_count": 7,
   "id": "b775efda",
   "metadata": {},
   "outputs": [
    {
     "name": "stderr",
     "output_type": "stream",
     "text": [
      "100%|██████████████████████████████████████████████████████████████████████████████████| 10/10 [00:07<00:00,  1.38it/s]\n",
      "100%|██████████████████████████████████████████████████████████████████████████████████| 10/10 [06:45<00:00, 40.55s/it]\n"
     ]
    }
   ],
   "source": [
    "# dice_mean, dice_std, imgs = verify_alignment_procedure.verify_alignment_main()\n",
    "dice_scores, assd_scores, hausdorff_distances = verify_alignment_procedure.verify_alignment_main()"
   ]
  },
  {
   "cell_type": "code",
   "execution_count": 8,
   "id": "3fe7f29b",
   "metadata": {},
   "outputs": [
    {
     "data": {
      "text/plain": [
       "[{'raw': 0.313637226906058,\n",
       "  'pre-align': 0.5985928389810603,\n",
       "  'contour': 0.6214834154086175,\n",
       "  'MLS': 0.7044732323552081},\n",
       " {'raw': 0.09420914453899304,\n",
       "  'pre-align': 0.1150255157985273,\n",
       "  'contour': 0.10878165723163304,\n",
       "  'MLS': 0.09022327312188981}]"
      ]
     },
     "execution_count": 8,
     "metadata": {},
     "output_type": "execute_result"
    }
   ],
   "source": [
    "dice_scores"
   ]
  },
  {
   "cell_type": "code",
   "execution_count": 9,
   "id": "eabb1f51",
   "metadata": {},
   "outputs": [
    {
     "data": {
      "text/plain": [
       "[{'raw': 41.2083302676335,\n",
       "  'pre-align': 13.368728555258997,\n",
       "  'contour': 10.164626309150075,\n",
       "  'MLS': 9.738845458282109},\n",
       " {'raw': 23.277291870623326,\n",
       "  'pre-align': 3.0614977680874746,\n",
       "  'contour': 2.5102141495284016,\n",
       "  'MLS': 2.770482662355907}]"
      ]
     },
     "execution_count": 9,
     "metadata": {},
     "output_type": "execute_result"
    }
   ],
   "source": [
    "assd_scores"
   ]
  },
  {
   "cell_type": "code",
   "execution_count": 10,
   "id": "08e1fd12",
   "metadata": {},
   "outputs": [
    {
     "data": {
      "text/plain": [
       "[{'raw': 108.94847317996712,\n",
       "  'pre-align': 60.487755692728854,\n",
       "  'contour': 57.19331672737279,\n",
       "  'MLS': 45.0507411813452},\n",
       " {'raw': 34.12081757159383,\n",
       "  'pre-align': 37.03689257020285,\n",
       "  'contour': 38.20765004187539,\n",
       "  'MLS': 41.39239929034614}]"
      ]
     },
     "execution_count": 10,
     "metadata": {},
     "output_type": "execute_result"
    }
   ],
   "source": [
    "hausdorff_distances"
   ]
  },
  {
   "cell_type": "code",
   "execution_count": null,
   "id": "d1dc3d86",
   "metadata": {},
   "outputs": [],
   "source": []
  }
 ],
 "metadata": {
  "kernelspec": {
   "display_name": "Python 3 (ipykernel)",
   "language": "python",
   "name": "python3"
  },
  "language_info": {
   "codemirror_mode": {
    "name": "ipython",
    "version": 3
   },
   "file_extension": ".py",
   "mimetype": "text/x-python",
   "name": "python",
   "nbconvert_exporter": "python",
   "pygments_lexer": "ipython3",
   "version": "3.8.17"
  }
 },
 "nbformat": 4,
 "nbformat_minor": 5
}
