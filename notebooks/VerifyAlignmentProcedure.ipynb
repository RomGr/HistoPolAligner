{
 "cells": [
  {
   "cell_type": "code",
   "execution_count": 1,
   "id": "faf43f22",
   "metadata": {},
   "outputs": [],
   "source": [
    "%load_ext autoreload\n",
    "%autoreload 2\n",
    "from histopolalign.VerificationAlignment import verify_alignment_procedure"
   ]
  },
  {
   "cell_type": "code",
   "execution_count": 2,
   "id": "b775efda",
   "metadata": {},
   "outputs": [
    {
     "name": "stderr",
     "output_type": "stream",
     "text": [
      "100%|████████████████████████████████████████████████████████████████████████████████████| 7/7 [00:04<00:00,  1.49it/s]\n",
      "100%|████████████████████████████████████████████████████████████████████████████████████| 7/7 [04:38<00:00, 39.82s/it]\n"
     ]
    }
   ],
   "source": [
    "dice_mean, dice_std = verify_alignment_procedure.verify_alignment_main()"
   ]
  },
  {
   "cell_type": "code",
   "execution_count": 3,
   "id": "3fe7f29b",
   "metadata": {},
   "outputs": [
    {
     "data": {
      "text/plain": [
       "{'raw': 0.310145718036233,\n",
       " 'pre-align': 0.6459851790399836,\n",
       " 'contour': 0.6652312008459782,\n",
       " 'MLS': 0.7317855580987763}"
      ]
     },
     "execution_count": 3,
     "metadata": {},
     "output_type": "execute_result"
    }
   ],
   "source": [
    "dice_mean"
   ]
  },
  {
   "cell_type": "code",
   "execution_count": 4,
   "id": "4ed675c5",
   "metadata": {},
   "outputs": [
    {
     "data": {
      "text/plain": [
       "{'raw': 0.06003559247210357,\n",
       " 'pre-align': 0.08474836830257905,\n",
       " 'contour': 0.09163360769673554,\n",
       " 'MLS': 0.046396714650888904}"
      ]
     },
     "execution_count": 4,
     "metadata": {},
     "output_type": "execute_result"
    }
   ],
   "source": [
    "dice_std"
   ]
  },
  {
   "cell_type": "code",
   "execution_count": null,
   "id": "4fa28800",
   "metadata": {},
   "outputs": [],
   "source": []
  }
 ],
 "metadata": {
  "kernelspec": {
   "display_name": "Python 3 (ipykernel)",
   "language": "python",
   "name": "python3"
  },
  "language_info": {
   "codemirror_mode": {
    "name": "ipython",
    "version": 3
   },
   "file_extension": ".py",
   "mimetype": "text/x-python",
   "name": "python",
   "nbconvert_exporter": "python",
   "pygments_lexer": "ipython3",
   "version": "3.8.17"
  }
 },
 "nbformat": 4,
 "nbformat_minor": 5
}
