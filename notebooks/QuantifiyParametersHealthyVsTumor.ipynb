{
 "cells": [
  {
   "cell_type": "code",
   "execution_count": 5,
   "id": "24b8247b",
   "metadata": {},
   "outputs": [
    {
     "name": "stdout",
     "output_type": "stream",
     "text": [
      "The autoreload extension is already loaded. To reload it, use:\n",
      "  %reload_ext autoreload\n"
     ]
    }
   ],
   "source": [
    "%load_ext autoreload\n",
    "%autoreload 2\n",
    "import os\n",
    "from tqdm import tqdm\n",
    "\n",
    "from histopolalign import compare_healthy_tumor\n",
    "from histopolalign.VerificationAlignment import mask_generation"
   ]
  },
  {
   "cell_type": "markdown",
   "id": "5aed4367",
   "metadata": {},
   "source": [
    "## 1. Healthy polarimetric parameters"
   ]
  },
  {
   "cell_type": "markdown",
   "id": "90d61cbb",
   "metadata": {},
   "source": [
    "#### 1.1. Process the Mueller matrices, if needed"
   ]
  },
  {
   "cell_type": "code",
   "execution_count": 2,
   "id": "dc296541",
   "metadata": {
    "scrolled": true
   },
   "outputs": [],
   "source": [
    "healthy_polarimetry_path = os.path.join(os.getcwd().split('notebooks')[0], 'data', 'HealthyHuman')\n",
    "directories = [healthy_polarimetry_path]\n",
    "calib_directory = os.path.join(os.getcwd().split('notebooks')[0], 'calib')\n",
    "\n",
    "# from processingmm import batch_processing\n",
    "# batch_processing.batch_process(directories, calib_directory)"
   ]
  },
  {
   "cell_type": "markdown",
   "id": "4ea2c4d2",
   "metadata": {},
   "source": [
    "#### 1.2. Get the grey / white matter masks"
   ]
  },
  {
   "cell_type": "code",
   "execution_count": 10,
   "id": "7a1a4f22",
   "metadata": {},
   "outputs": [
    {
     "name": "stderr",
     "output_type": "stream",
     "text": [
      "100%|████████████████████████████████████████████████████████████████████████████████████| 9/9 [00:17<00:00,  1.93s/it]\n"
     ]
    }
   ],
   "source": [
    "folders_masks = []\n",
    "for folder in os.listdir(healthy_polarimetry_path):\n",
    "    folders_masks.append(os.path.join(healthy_polarimetry_path, folder))\n",
    "\n",
    "_ = mask_generation.create_the_masks(folders_of_interest = folders_masks)"
   ]
  },
  {
   "cell_type": "markdown",
   "id": "5f8188bc",
   "metadata": {},
   "source": [
    "#### 1.3. Get the values for healthy tissue"
   ]
  },
  {
   "cell_type": "code",
   "execution_count": 11,
   "id": "6dbc31ad",
   "metadata": {},
   "outputs": [
    {
     "name": "stderr",
     "output_type": "stream",
     "text": [
      "100%|████████████████████████████████████████████████████████████████████████████████████| 9/9 [02:41<00:00, 17.97s/it]\n"
     ]
    }
   ],
   "source": [
    "azimuth_sq_size = 4\n",
    "values_healthy = compare_healthy_tumor.get_parameters_healthy(healthy_polarimetry_path, azimuth_sq_size = azimuth_sq_size)"
   ]
  },
  {
   "cell_type": "markdown",
   "id": "11ab4ef6",
   "metadata": {},
   "source": [
    "## 2. Neoplastic polarimetric parameters"
   ]
  },
  {
   "cell_type": "markdown",
   "id": "92907706",
   "metadata": {},
   "source": [
    "#### 2.1. Get the values for neoplastic tissues"
   ]
  },
  {
   "cell_type": "code",
   "execution_count": 12,
   "id": "6ba492f1",
   "metadata": {},
   "outputs": [
    {
     "name": "stderr",
     "output_type": "stream",
     "text": [
      "100%|██████████████████████████████████████████████████████████████████████████████████| 39/39 [08:33<00:00, 13.16s/it]\n"
     ]
    }
   ],
   "source": [
    "neoplastic_polarimetry_path = os.path.join(os.getcwd().split('notebooks')[0], 'data', 'TumorMeasurements')\n",
    "path_folders = compare_healthy_tumor.get_all_folders(neoplastic_polarimetry_path)\n",
    "values_folder = compare_healthy_tumor.get_the_values(path_folders, azimuth_sq_size = azimuth_sq_size)"
   ]
  },
  {
   "cell_type": "markdown",
   "id": "9f84dc2a",
   "metadata": {},
   "source": [
    "#### 2.2. And plot the histograms for the paper"
   ]
  },
  {
   "cell_type": "code",
   "execution_count": 13,
   "id": "a8a7ee04",
   "metadata": {},
   "outputs": [],
   "source": [
    "parameters = ['totP', 'linR', 'azimuth']\n",
    "compare_healthy_tumor.plot_histograms_paper(values_healthy, values_folder, parameters, (153, 153, 0),\n",
    "                                os.path.join(os.getcwd().split('notebooks')[0], 'results', 'WM_split.pdf'), WM = True)\n",
    "compare_healthy_tumor.plot_histograms_paper(values_healthy, values_folder, parameters, (153, 77, 0),\n",
    "                                os.path.join(os.getcwd().split('notebooks')[0], 'results', 'GM_split.pdf'), WM = False)"
   ]
  },
  {
   "cell_type": "markdown",
   "id": "ccf6713d",
   "metadata": {},
   "source": [
    "#### 2.3. Combine the values across the different tumor cell contents"
   ]
  },
  {
   "cell_type": "code",
   "execution_count": 14,
   "id": "410889a3",
   "metadata": {},
   "outputs": [],
   "source": [
    "values_folder_combined = compare_healthy_tumor.combine_the_values(values_folder)\n",
    "\n",
    "compare_healthy_tumor.plot_histograms_paper_combined(values_healthy, values_folder_combined, parameters, False,\n",
    "                               os.path.join(os.getcwd().split('notebooks')[0], 'results', 'GM_combined.pdf'))\n",
    "compare_healthy_tumor.plot_histograms_paper_combined(values_healthy, values_folder_combined, parameters, True,\n",
    "                               os.path.join(os.getcwd().split('notebooks')[0], 'results', 'WM_combined.pdf'))"
   ]
  },
  {
   "cell_type": "markdown",
   "id": "122713d4",
   "metadata": {},
   "source": [
    "## 3. Get the numbers of samples per tumor cell proportion"
   ]
  },
  {
   "cell_type": "code",
   "execution_count": 15,
   "id": "85c36999",
   "metadata": {},
   "outputs": [
    {
     "data": {
      "text/plain": [
       "{'0-30': 30, '30-70': 12, '70-100': 18}"
      ]
     },
     "execution_count": 15,
     "metadata": {},
     "output_type": "execute_result"
    }
   ],
   "source": [
    "numbers = compare_healthy_tumor.get_number_of_samples_tcp(path_folders)\n",
    "numbers"
   ]
  },
  {
   "cell_type": "markdown",
   "id": "54f8fb8f",
   "metadata": {},
   "source": [
    " "
   ]
  },
  {
   "cell_type": "markdown",
   "id": "64e69a6f",
   "metadata": {},
   "source": [
    "## 4. Get the values for the methods of the paper"
   ]
  },
  {
   "cell_type": "code",
   "execution_count": 17,
   "id": "7534b1f9",
   "metadata": {},
   "outputs": [
    {
     "name": "stderr",
     "output_type": "stream",
     "text": [
      "100%|████████████████████████████████████████████████████████████████████████████████████| 1/1 [00:02<00:00,  2.15s/it]\n",
      "100%|████████████████████████████████████████████████████████████████████████████████████| 1/1 [00:27<00:00, 27.72s/it]\n"
     ]
    }
   ],
   "source": [
    "polarimetry_path_methods = os.path.join(os.getcwd().split('notebooks')[0], 'data', 'HealthyMethods')\n",
    "\n",
    "azimuth_sq_size = 4\n",
    "\n",
    "folders_masks = []\n",
    "for folder in os.listdir(polarimetry_path_methods):\n",
    "    folders_masks.append(os.path.join(polarimetry_path_methods, folder))\n",
    "\n",
    "_ = mask_generation.create_the_masks(folders_of_interest = folders_masks)\n",
    "    \n",
    "values_healthy_methods = compare_healthy_tumor.get_parameters_healthy(polarimetry_path_methods, \n",
    "                                                                      azimuth_sq_size = azimuth_sq_size)"
   ]
  },
  {
   "cell_type": "code",
   "execution_count": 18,
   "id": "fb738232",
   "metadata": {},
   "outputs": [
    {
     "name": "stderr",
     "output_type": "stream",
     "text": [
      "100%|████████████████████████████████████████████████████████████████████████████████████| 1/1 [00:08<00:00,  8.99s/it]\n"
     ]
    }
   ],
   "source": [
    "neoplastic_polarimetry_path = os.path.join(os.getcwd().split('notebooks')[0], 'data', 'TumorMeasurementsMethods')\n",
    "path_folders = compare_healthy_tumor.get_all_folders(neoplastic_polarimetry_path)\n",
    "values_folder = compare_healthy_tumor.get_the_values(path_folders, azimuth_sq_size = azimuth_sq_size)"
   ]
  },
  {
   "cell_type": "code",
   "execution_count": 19,
   "id": "74fbca6f",
   "metadata": {},
   "outputs": [],
   "source": [
    "parameters = ['totP', 'linR', 'azimuth']\n",
    "\n",
    "compare_healthy_tumor.plot_histograms_methods(values_healthy_methods, values_folder, parameters, True,\n",
    "                      os.path.join(os.getcwd().split('notebooks')[0], 'results', 'methods.pdf'))"
   ]
  },
  {
   "cell_type": "code",
   "execution_count": null,
   "id": "37b66409",
   "metadata": {},
   "outputs": [],
   "source": []
  }
 ],
 "metadata": {
  "kernelspec": {
   "display_name": "Python 3 (ipykernel)",
   "language": "python",
   "name": "python3"
  },
  "language_info": {
   "codemirror_mode": {
    "name": "ipython",
    "version": 3
   },
   "file_extension": ".py",
   "mimetype": "text/x-python",
   "name": "python",
   "nbconvert_exporter": "python",
   "pygments_lexer": "ipython3",
   "version": "3.8.17"
  }
 },
 "nbformat": 4,
 "nbformat_minor": 5
}
