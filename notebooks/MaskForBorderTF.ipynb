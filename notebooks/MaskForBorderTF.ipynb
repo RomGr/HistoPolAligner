{
 "cells": [
  {
   "cell_type": "code",
   "execution_count": 1,
   "id": "71730787",
   "metadata": {},
   "outputs": [],
   "source": [
    "from PIL import Image\n",
    "import os\n",
    "import numpy as np"
   ]
  },
  {
   "cell_type": "code",
   "execution_count": 2,
   "id": "26cca20e",
   "metadata": {},
   "outputs": [],
   "source": [
    "path = os.path.join(os.getcwd().split(r'\\notebooks')[0], r'data\\HealthyMethods\\2022-07-07_T_autopsy-cryo-AF_FR_S2_1\\annotation\\merged.png')\n",
    "img = np.array(Image.open(path))"
   ]
  },
  {
   "cell_type": "code",
   "execution_count": 3,
   "id": "3465a8ce",
   "metadata": {},
   "outputs": [],
   "source": [
    "GM_WM_colored = np.zeros((img.shape[0], img.shape[1], 3))\n",
    "TCC_colored = np.zeros((img.shape[0], img.shape[1], 3))\n",
    "\n",
    "for idx, x in enumerate(img):\n",
    "    for idy, y in enumerate(x):\n",
    "        if y != 0:\n",
    "            if y != 0:\n",
    "                TCC_colored[idx, idy] = [0, 255, 0]\n",
    "                \n",
    "                if y == 128:\n",
    "                    GM_WM_colored[idx, idy] = [153, 77, 0]\n",
    "                elif y == 255:\n",
    "                    GM_WM_colored[idx, idy] = [153, 153, 0]"
   ]
  },
  {
   "cell_type": "code",
   "execution_count": 4,
   "id": "95e73949",
   "metadata": {},
   "outputs": [],
   "source": [
    "Image.fromarray(TCC_colored.astype(np.uint8)).save(path.replace('merged', 'TCC_colored'))\n",
    "Image.fromarray(GM_WM_colored.astype(np.uint8)).save(path.replace('merged', 'GM_WM_colored'))"
   ]
  },
  {
   "cell_type": "code",
   "execution_count": null,
   "id": "6ec02278",
   "metadata": {},
   "outputs": [],
   "source": []
  },
  {
   "cell_type": "code",
   "execution_count": 5,
   "id": "0b0d06d5",
   "metadata": {},
   "outputs": [],
   "source": [
    "from PIL import Image\n",
    "import os\n",
    "import numpy as np\n",
    "\n",
    "WM_path = os.path.join(os.getcwd().split(r'\\notebooks')[0], r'data\\TumorMeasurements\\63\\2022-11-08_T_HORAO-63-BF_FR_S1_1\\annotation\\WM_1.tif')\n",
    "BG_path = os.path.join(os.getcwd().split(r'\\notebooks')[0], r'data\\TumorMeasurements\\63\\2022-11-08_T_HORAO-63-BF_FR_S1_1\\annotation\\BG_1.tif')\n",
    "WM = np.array(Image.open(WM_path))\n",
    "BG = np.array(Image.open(BG_path))"
   ]
  },
  {
   "cell_type": "code",
   "execution_count": 6,
   "id": "d729dc09",
   "metadata": {},
   "outputs": [],
   "source": [
    "GM_WM_colored = np.zeros((WM.shape[0], WM.shape[1], 3))"
   ]
  },
  {
   "cell_type": "code",
   "execution_count": 7,
   "id": "f6a68a8b",
   "metadata": {},
   "outputs": [],
   "source": [
    "for idx, x in enumerate(WM):\n",
    "    for idy, y in enumerate(x):\n",
    "        if y != 0:\n",
    "            GM_WM_colored[idx, idy] = [153, 153, 0]\n",
    "        elif BG[idx, idy] != 0:\n",
    "            pass\n",
    "        else:\n",
    "            GM_WM_colored[idx, idy] = [153, 77, 0]"
   ]
  },
  {
   "cell_type": "code",
   "execution_count": 8,
   "id": "1d491d9e",
   "metadata": {},
   "outputs": [],
   "source": [
    "Image.fromarray(GM_WM_colored.astype(np.uint8)).save(WM_path.replace('WM_1.tif', 'GM_WM_colored.png'))"
   ]
  },
  {
   "cell_type": "code",
   "execution_count": null,
   "id": "72ff7f22",
   "metadata": {},
   "outputs": [],
   "source": []
  }
 ],
 "metadata": {
  "kernelspec": {
   "display_name": "Python 3 (ipykernel)",
   "language": "python",
   "name": "python3"
  },
  "language_info": {
   "codemirror_mode": {
    "name": "ipython",
    "version": 3
   },
   "file_extension": ".py",
   "mimetype": "text/x-python",
   "name": "python",
   "nbconvert_exporter": "python",
   "pygments_lexer": "ipython3",
   "version": "3.8.17"
  }
 },
 "nbformat": 4,
 "nbformat_minor": 5
}
