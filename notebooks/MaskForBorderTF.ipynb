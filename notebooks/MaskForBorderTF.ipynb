{
 "cells": [
  {
   "cell_type": "code",
   "execution_count": 15,
   "id": "71730787",
   "metadata": {},
   "outputs": [],
   "source": [
    "from PIL import Image\n",
    "import os\n",
    "import numpy as np"
   ]
  },
  {
   "cell_type": "code",
   "execution_count": 18,
   "id": "26cca20e",
   "metadata": {},
   "outputs": [],
   "source": [
    "path = os.path.join(os.getcwd().split(r'\\notebooks')[0], r'data\\HealthyHuman\\2022-07-06_T_autopsy-bloc_BF_FR_M1_1\\annotation\\merged.png')\n",
    "img = np.array(Image.open(path))"
   ]
  },
  {
   "cell_type": "code",
   "execution_count": 19,
   "id": "3465a8ce",
   "metadata": {},
   "outputs": [],
   "source": [
    "GM_WM_colored = np.zeros((img.shape[0], img.shape[1], 3))\n",
    "TCC_colored = np.zeros((img.shape[0], img.shape[1], 3))\n",
    "\n",
    "for idx, x in enumerate(img):\n",
    "    for idy, y in enumerate(x):\n",
    "        if y != 0:\n",
    "            if y != 0:\n",
    "                TCC_colored[idx, idy] = [0, 255, 0]\n",
    "                \n",
    "                if y == 128:\n",
    "                    GM_WM_colored[idx, idy] = [153, 77, 0]\n",
    "                elif y == 255:\n",
    "                    GM_WM_colored[idx, idy] = [153, 153, 0]"
   ]
  },
  {
   "cell_type": "code",
   "execution_count": 20,
   "id": "95e73949",
   "metadata": {},
   "outputs": [],
   "source": [
    "Image.fromarray(TCC_colored.astype(np.uint8)).save(path.replace('merged', 'TCC_colored'))\n",
    "Image.fromarray(GM_WM_colored.astype(np.uint8)).save(path.replace('merged', 'GM_WM_colored'))"
   ]
  },
  {
   "cell_type": "code",
   "execution_count": null,
   "id": "6ec02278",
   "metadata": {},
   "outputs": [],
   "source": []
  },
  {
   "cell_type": "code",
   "execution_count": 5,
   "id": "0b0d06d5",
   "metadata": {},
   "outputs": [],
   "source": [
    "from PIL import Image\n",
    "import os\n",
    "import numpy as np\n",
    "\n",
    "WM_path = os.path.join(os.getcwd().split(r'\\notebooks')[0], r'data\\TumorMeasurements\\63\\2022-11-08_T_HORAO-63-BF_FR_S1_1\\annotation\\WM_1.tif')\n",
    "BG_path = os.path.join(os.getcwd().split(r'\\notebooks')[0], r'data\\TumorMeasurements\\63\\2022-11-08_T_HORAO-63-BF_FR_S1_1\\annotation\\BG_1.tif')\n",
    "WM = np.array(Image.open(WM_path))\n",
    "BG = np.array(Image.open(BG_path))"
   ]
  },
  {
   "cell_type": "code",
   "execution_count": 6,
   "id": "d729dc09",
   "metadata": {},
   "outputs": [],
   "source": [
    "GM_WM_colored = np.zeros((WM.shape[0], WM.shape[1], 3))"
   ]
  },
  {
   "cell_type": "code",
   "execution_count": 7,
   "id": "f6a68a8b",
   "metadata": {},
   "outputs": [],
   "source": [
    "for idx, x in enumerate(WM):\n",
    "    for idy, y in enumerate(x):\n",
    "        if y != 0:\n",
    "            GM_WM_colored[idx, idy] = [153, 153, 0]\n",
    "        elif BG[idx, idy] != 0:\n",
    "            pass\n",
    "        else:\n",
    "            GM_WM_colored[idx, idy] = [153, 77, 0]"
   ]
  },
  {
   "cell_type": "code",
   "execution_count": 8,
   "id": "1d491d9e",
   "metadata": {},
   "outputs": [],
   "source": [
    "Image.fromarray(GM_WM_colored.astype(np.uint8)).save(WM_path.replace('WM_1.tif', 'GM_WM_colored.png'))"
   ]
  },
  {
   "cell_type": "code",
   "execution_count": null,
   "id": "72ff7f22",
   "metadata": {},
   "outputs": [],
   "source": []
  },
  {
   "cell_type": "code",
   "execution_count": 10,
   "id": "7a2d3c94",
   "metadata": {},
   "outputs": [],
   "source": [
    "from PIL import Image\n",
    "import os\n",
    "import numpy as np\n",
    "import cv2\n",
    "\n",
    "path = os.path.join(os.getcwd().split(r'\\notebooks')[0], r'data\\HealthyHuman\\2022-07-06_T_autopsy-bloc_BF_FR_M1_1\\annotation\\merged.png')\n",
    "img = np.array(Image.open(path))"
   ]
  },
  {
   "cell_type": "code",
   "execution_count": 11,
   "id": "ce815489",
   "metadata": {},
   "outputs": [],
   "source": [
    "def remove_background(FG):\n",
    "    (thresh, FG) = cv2.threshold(FG.astype(np.uint8), 128, 255, cv2.THRESH_BINARY | cv2.THRESH_OTSU)\n",
    "    kernel = np.ones((5, 5), np.uint8) \n",
    "    FG = cv2.erode(FG, kernel)\n",
    "    FG_contour = cv2.Canny(FG, 30, 200) \n",
    "    FG_contour = cv2.dilate(FG_contour, kernel)\n",
    "    return FG, FG_contour"
   ]
  },
  {
   "cell_type": "code",
   "execution_count": 12,
   "id": "bbfe1391",
   "metadata": {},
   "outputs": [],
   "source": [
    "path_polarimetry = r'C:\\Users\\romai\\Documents\\PathologyPaper\\data\\HealthyHuman\\2022-07-06_T_autopsy-bloc_BF_FR_M1_1\\polarimetry\\550nm'\n",
    "paths = [os.path.join(path_polarimetry, 'Intensity_img.png'), os.path.join(path_polarimetry, 'Azimuth of optical axis_img.png'),\n",
    "            os.path.join(path_polarimetry, 'Depolarization_img.png'), os.path.join(path_polarimetry, 'Linear retardance_img.png')]\n",
    "\n",
    "FG, FG_contour = remove_background(img != 0 )\n",
    "\n",
    "for path in paths:\n",
    "    img = np.array(Image.open(path))\n",
    "    labels = mask_labels(img, FG, FG_contour, polarimetry = True)\n",
    "    Image.fromarray(labels).save(path.replace('img', 'img_masked'))"
   ]
  },
  {
   "cell_type": "code",
   "execution_count": null,
   "id": "e69499ce",
   "metadata": {},
   "outputs": [],
   "source": []
  },
  {
   "cell_type": "code",
   "execution_count": 9,
   "id": "5725114e",
   "metadata": {},
   "outputs": [],
   "source": [
    "def mask_labels(labels, mask, mask_contour = None, polarimetry = False):\n",
    "    masked = np.zeros(labels.shape)\n",
    "    for idx, x in enumerate(labels):\n",
    "        for idy, y in enumerate(x):\n",
    "            if mask[idx, idy] == 0:\n",
    "                if polarimetry:\n",
    "                    masked[idx, idy] = [0, 0, 0, 255]\n",
    "                else:\n",
    "                    pass\n",
    "            else:\n",
    "                masked[idx, idy] = y\n",
    "                \n",
    "            if polarimetry:\n",
    "                if mask_contour[idx, idy] != 0:\n",
    "                    masked[idx, idy] = [255, 255, 255, 255]\n",
    "    return masked.astype(np.uint8)"
   ]
  },
  {
   "cell_type": "code",
   "execution_count": null,
   "id": "177ca487",
   "metadata": {},
   "outputs": [],
   "source": []
  }
 ],
 "metadata": {
  "kernelspec": {
   "display_name": "Python 3 (ipykernel)",
   "language": "python",
   "name": "python3"
  },
  "language_info": {
   "codemirror_mode": {
    "name": "ipython",
    "version": 3
   },
   "file_extension": ".py",
   "mimetype": "text/x-python",
   "name": "python",
   "nbconvert_exporter": "python",
   "pygments_lexer": "ipython3",
   "version": "3.8.16"
  }
 },
 "nbformat": 4,
 "nbformat_minor": 5
}
